{
 "cells": [
  {
   "cell_type": "markdown",
   "metadata": {},
   "source": [
    "# import"
   ]
  },
  {
   "cell_type": "code",
   "execution_count": 1,
   "metadata": {
    "scrolled": true
   },
   "outputs": [],
   "source": [
    "import sys \n",
    "sys.path.append('C:\\\\Users\\\\Nuo.Chen\\\\PycharmProjects\\\\Imbalance_price_forecast')\n",
    "from utils.import_packages import *\n",
    "# from data_gathering.prepare_data import *\n",
    "\n",
    "from xgboost import XGBClassifier, XGBRegressor\n",
    "from models.evaluation import *"
   ]
  },
  {
   "cell_type": "code",
   "execution_count": 2,
   "metadata": {},
   "outputs": [],
   "source": [
    "train_df = pd.read_excel(data_folder_path + '/train.xlsx')\n",
    "test_df = pd.read_excel(data_folder_path + '/test.xlsx')"
   ]
  },
  {
   "cell_type": "markdown",
   "metadata": {},
   "source": [
    "## cross validation"
   ]
  },
  {
   "cell_type": "code",
   "execution_count": 57,
   "metadata": {},
   "outputs": [],
   "source": [
    "def down_sample_train(train,target,down_ratio):\n",
    "    # down sample click = 0 data so as 'len(click = 0) = n* len(click = 1)'\n",
    "    \n",
    "    pos_rows = train[ train[target] == 1 ]\n",
    "    neg_rows = train[ train[target] == 0 ]\n",
    "    \n",
    "    np.random.seed(666)\n",
    "    sample_pos_index = np.random.choice( pos_rows.index, math.floor(len(pos_rows)*down_ratio), replace = False)\n",
    "    sample_pos_df = pos_rows.loc[sample_pos_index]\n",
    "    \n",
    "    new_train = pd.concat([sample_pos_df, neg_rows], axis = 0)\n",
    "    \n",
    "    return new_train"
   ]
  },
  {
   "cell_type": "code",
   "execution_count": 58,
   "metadata": {},
   "outputs": [],
   "source": [
    "def recalibration(prediction,down_ratio):\n",
    "    q = prediction/( prediction + (1-prediction)/down_ratio)\n",
    "    return q"
   ]
  },
  {
   "cell_type": "code",
   "execution_count": 67,
   "metadata": {},
   "outputs": [
    {
     "name": "stdout",
     "output_type": "stream",
     "text": [
      "train: auc = 1.0000, acc = 99.2633\n",
      "test: auc = 0.5535, acc = 32.1198\n"
     ]
    }
   ],
   "source": [
    "def simple_train(target, model, feat_params, df, down_ratio=0.1):\n",
    "    train, test = train_test_split(df, None, splitBySize = True)\n",
    "    train = down_sample_train(train, target, down_ratio)\n",
    "    \n",
    "    train_x, train_y = classification_feat_pipeline(feat_params, train)\n",
    "    test_x, test_y = classification_feat_pipeline(feat_params, test)\n",
    "    \n",
    "    train_model = model().fit(train_x, train_y[target])\n",
    "    \n",
    "    # recalibration\n",
    "    train_prob = train_model.predict_proba(train_x)[:,1]\n",
    "    test_prob = train_model.predict_proba(test_x)[:,1]\n",
    "    \n",
    "    train_pred = recalibration(train_prob, down_ratio)\n",
    "    test_pred = recalibration(test_prob, down_ratio)\n",
    "    \n",
    "    train_metrics = Evaluator(train_pred, train_y[target]).classification_metrics()\n",
    "    test_metrics = Evaluator(test_pred, test_y[target]).classification_metrics()\n",
    "    print('train: auc = {}, acc = {}'.format(train_metrics['AUC'], train_metrics['Accuracy']))\n",
    "    print('test: auc = {}, acc = {}'.format(test_metrics['AUC'], test_metrics['Accuracy']))\n",
    "    \n",
    "    return train_model\n",
    "\n",
    "model = simple_train('DA>TAKE', XGBClassifier, lag_dict2, train_df, down_ratio = 0.3)"
   ]
  },
  {
   "cell_type": "code",
   "execution_count": 68,
   "metadata": {},
   "outputs": [
    {
     "data": {
      "text/plain": [
       "{'AUC': '0.4810', 'Accuracy': 23.138}"
      ]
     },
     "execution_count": 68,
     "metadata": {},
     "output_type": "execute_result"
    }
   ],
   "source": [
    "test_x, test_y = classification_feat_pipeline(lag_dict2, test_df)\n",
    "test_y = test_y['DA>TAKE']\n",
    "test_proba = model.predict_proba(test_x)[:,1]\n",
    "test_pred = recalibration(test_proba, 0.3)\n",
    "\n",
    "metrics2 = Evaluator(test_proba, test_y).classification_metrics()\n",
    "metrics2"
   ]
  },
  {
   "cell_type": "code",
   "execution_count": 69,
   "metadata": {},
   "outputs": [
    {
     "data": {
      "text/plain": [
       "array([5.5154711e-03, 4.7441754e-03, 3.5736782e-03, ..., 4.5301604e-05,\n",
       "       4.2024007e-05, 4.7998266e-05], dtype=float32)"
      ]
     },
     "execution_count": 69,
     "metadata": {},
     "output_type": "execute_result"
    }
   ],
   "source": [
    "test_pred"
   ]
  },
  {
   "cell_type": "code",
   "execution_count": null,
   "metadata": {},
   "outputs": [],
   "source": []
  },
  {
   "cell_type": "code",
   "execution_count": null,
   "metadata": {},
   "outputs": [],
   "source": []
  },
  {
   "cell_type": "code",
   "execution_count": 34,
   "metadata": {},
   "outputs": [],
   "source": [
    "def train_validation(target, model, feat_params, df, n_folds=2, print_temp_info=True):\n",
    "    results = defaultdict(list)\n",
    "    ts_split = TimeSeriesSplit(n_splits=n_folds)\n",
    "    feat_cols = None\n",
    "\n",
    "    for fold, (train_index, test_index) in enumerate(ts_split.split(df), 1):\n",
    "        start_time = time.time()\n",
    "        print('Fold:{}'.format(fold))\n",
    "        cv_train = df.iloc[train_index, :]\n",
    "        cv_test = df.iloc[test_index, :]\n",
    "        cv_train = down_sample_train(cv_train, target)\n",
    "        \n",
    "        train_x, train_y = classification_feat_pipeline(feat_params, cv_train)\n",
    "        \n",
    "        test_x, test_y = classification_feat_pipeline(feat_params, cv_test)\n",
    "        feat_cols = train_x.columns\n",
    "\n",
    "        cv_model = model()\n",
    "        cv_model.fit(train_x, train_y[target])\n",
    "#             train_pred = cv_model.predict_proba(train_x)[:, 1]\n",
    "#             test_pred = cv_model.predict_proba(test_x)[:, 1]\n",
    "        train_pred = cv_model.predict(train_x)\n",
    "        test_pred = cv_model.predict(test_x)\n",
    "\n",
    "        train_metrics = Evaluator(train_pred, train_y[target]).classification_metrics()\n",
    "        test_metrics = Evaluator(test_pred, test_y[target]).classification_metrics()\n",
    "        results['auc'].append(test_metrics['AUC'])\n",
    "        results['models'].append(cv_model)\n",
    "\n",
    "        if print_temp_info:\n",
    "            print('train:')\n",
    "            print(train_metrics)\n",
    "            print('test:')\n",
    "            print(test_metrics)\n",
    "            print('takes:{} min\\n'.format(round((time.time() - start_time) / 60, 2)))\n",
    "\n",
    "    return results, feat_cols\n"
   ]
  },
  {
   "cell_type": "markdown",
   "metadata": {},
   "source": [
    "# DA > TAKE"
   ]
  },
  {
   "cell_type": "markdown",
   "metadata": {},
   "source": [
    "## feat pipeline"
   ]
  },
  {
   "cell_type": "code",
   "execution_count": 41,
   "metadata": {},
   "outputs": [],
   "source": [
    "lag_values2 = {'yesterday': np.arange(96,96*2),\\\n",
    "             'two_days': np.arange(96, 96*3),\\\n",
    "             'same_time_before': [96, 96*2, 96*3],\\\n",
    "             'around_time_before':[96, 97, 95*2, 96*2, 97*2]}\n",
    "classy_lag_dict = {'take_from_system_price':lag_values2['yesterday'],\\\n",
    "           'feed_into_system_price':lag_values2['yesterday'],\\\n",
    "           'DA-price':lag_values2['around_time_before']}\n",
    "                   \n",
    "#            'system_purchase_vol':lag_values2['around_time_before'],\\\n",
    "#            'system_sell_vol':lag_values2['around_time_before'],\\\n",
    "#            'system_absolute_vol':lag_values2['around_time_before'],\\\n",
    "#            'wind_value':lag_values2['around_time_before']}"
   ]
  },
  {
   "cell_type": "code",
   "execution_count": 43,
   "metadata": {},
   "outputs": [],
   "source": [
    "def classification_feat_pipeline(lag_dict, df):\n",
    "    df = make_date_feature(df)\n",
    "    # hot-encoding weekday and pte    \n",
    "    dummy_date = pd.get_dummies(df['weekday'], prefix='weekday')\n",
    "    dummy_PTE = pd.get_dummies(df['PTE'], prefix = 'PTE')\n",
    "    df = pd.concat([df, dummy_date, dummy_PTE], axis = 1)\n",
    "    df.drop(['weekday'], axis=1)\n",
    "\n",
    "    # lag feat\n",
    "    for lag_column, lag_value in lag_dict.items():\n",
    "        lag_feat = make_lag_feat(lag_column, lag_value, df)\n",
    "        df = pd.concat([df, lag_feat], axis=1)\n",
    "    \n",
    "   # standardize\n",
    "    clasy_cols = ['DA>FEED', 'DA>TAKE', 'Date', 'DateTime','day', 'month','PTE','weekday',\n",
    "                        'week', 'sin_weekday', 'sin_month', 'sin_day', 'sin_PTE',\n",
    "                        'take_from_system_price', 'feed_into_system_price']\n",
    "    clasy_cols.extend(dummy_date.columns)\n",
    "    clasy_cols.extend(dummy_PTE.columns)\n",
    "\n",
    "    df= standardize_feat(df, clasy_cols)\n",
    "    \n",
    "    # select x,y\n",
    "    y = df[['DA>FEED', 'DA>TAKE', 'take_from_system_price', 'feed_into_system_price']]    \n",
    "    X = df.drop(['DA>FEED', 'DA>TAKE', 'take_from_system_price', 'feed_into_system_price',\\\n",
    "                 'DA-price', 'system_purchase_vol', 'system_sell_vol', 'system_absolute_vol',\\\n",
    "                 'DateTime', 'week', 'Date', 'PTE','weekday'], \\\n",
    "                axis=1)\n",
    "    return X, y"
   ]
  },
  {
   "cell_type": "markdown",
   "metadata": {},
   "source": [
    "## train"
   ]
  },
  {
   "cell_type": "code",
   "execution_count": 44,
   "metadata": {
    "scrolled": true
   },
   "outputs": [
    {
     "name": "stdout",
     "output_type": "stream",
     "text": [
      "Fold:1\n",
      "train:\n",
      "{'AUC': '1.0000', 'Accuracy': 100.0}\n",
      "test:\n",
      "{'AUC': '0.4998', 'Accuracy': 21.975}\n",
      "takes:0.33 min\n",
      "\n",
      "Fold:2\n",
      "train:\n",
      "{'AUC': '0.9998', 'Accuracy': 99.9769}\n",
      "test:\n",
      "{'AUC': '0.5107', 'Accuracy': 32.466}\n",
      "takes:0.43 min\n",
      "\n"
     ]
    }
   ],
   "source": [
    "out2,feat_cols2 = classy_cross_validation('DA>TAKE',XGBClassifier,classy_lag_dict,train_df) "
   ]
  },
  {
   "cell_type": "markdown",
   "metadata": {},
   "source": [
    "## feat importance"
   ]
  },
  {
   "cell_type": "code",
   "execution_count": 45,
   "metadata": {},
   "outputs": [
    {
     "data": {
      "text/html": [
       "<div>\n",
       "<style scoped>\n",
       "    .dataframe tbody tr th:only-of-type {\n",
       "        vertical-align: middle;\n",
       "    }\n",
       "\n",
       "    .dataframe tbody tr th {\n",
       "        vertical-align: top;\n",
       "    }\n",
       "\n",
       "    .dataframe thead th {\n",
       "        text-align: right;\n",
       "    }\n",
       "</style>\n",
       "<table border=\"1\" class=\"dataframe\">\n",
       "  <thead>\n",
       "    <tr style=\"text-align: right;\">\n",
       "      <th></th>\n",
       "      <th>importances</th>\n",
       "      <th>features</th>\n",
       "    </tr>\n",
       "  </thead>\n",
       "  <tbody>\n",
       "    <tr>\n",
       "      <th>120</th>\n",
       "      <td>0.014620</td>\n",
       "      <td>take_from_system_price_99</td>\n",
       "    </tr>\n",
       "    <tr>\n",
       "      <th>121</th>\n",
       "      <td>0.017544</td>\n",
       "      <td>take_from_system_price_100</td>\n",
       "    </tr>\n",
       "    <tr>\n",
       "      <th>117</th>\n",
       "      <td>0.017544</td>\n",
       "      <td>take_from_system_price_96</td>\n",
       "    </tr>\n",
       "    <tr>\n",
       "      <th>12</th>\n",
       "      <td>0.019006</td>\n",
       "      <td>sin_PTE</td>\n",
       "    </tr>\n",
       "    <tr>\n",
       "      <th>310</th>\n",
       "      <td>0.020468</td>\n",
       "      <td>DA-price_97</td>\n",
       "    </tr>\n",
       "    <tr>\n",
       "      <th>197</th>\n",
       "      <td>0.021930</td>\n",
       "      <td>take_from_system_price_176</td>\n",
       "    </tr>\n",
       "    <tr>\n",
       "      <th>118</th>\n",
       "      <td>0.023392</td>\n",
       "      <td>take_from_system_price_97</td>\n",
       "    </tr>\n",
       "    <tr>\n",
       "      <th>10</th>\n",
       "      <td>0.036550</td>\n",
       "      <td>sin_day</td>\n",
       "    </tr>\n",
       "    <tr>\n",
       "      <th>11</th>\n",
       "      <td>0.070175</td>\n",
       "      <td>cos_day</td>\n",
       "    </tr>\n",
       "    <tr>\n",
       "      <th>9</th>\n",
       "      <td>0.071637</td>\n",
       "      <td>cos_month</td>\n",
       "    </tr>\n",
       "  </tbody>\n",
       "</table>\n",
       "</div>"
      ],
      "text/plain": [
       "     importances                    features\n",
       "120     0.014620   take_from_system_price_99\n",
       "121     0.017544  take_from_system_price_100\n",
       "117     0.017544   take_from_system_price_96\n",
       "12      0.019006                     sin_PTE\n",
       "310     0.020468                 DA-price_97\n",
       "197     0.021930  take_from_system_price_176\n",
       "118     0.023392   take_from_system_price_97\n",
       "10      0.036550                     sin_day\n",
       "11      0.070175                     cos_day\n",
       "9       0.071637                   cos_month"
      ]
     },
     "execution_count": 45,
     "metadata": {},
     "output_type": "execute_result"
    }
   ],
   "source": [
    "model_auc = out2['auc']\n",
    "best_model2 = out2['models'][model_auc.index(max(model_auc))]\n",
    "\n",
    "plot_feature_importance(best_model2, feat_cols2)[-10:]"
   ]
  },
  {
   "cell_type": "markdown",
   "metadata": {},
   "source": [
    "## test"
   ]
  },
  {
   "cell_type": "code",
   "execution_count": 46,
   "metadata": {},
   "outputs": [
    {
     "ename": "ValueError",
     "evalue": "feature_names mismatch: ['solar_value', 'solar_maxvalue', 'solar_minvalue', 'wind_value', 'wind_maxvalue', 'wind_minvalue', 'sin_weekday', 'cos_weekday', 'sin_month', 'cos_month', 'sin_day', 'cos_day', 'sin_PTE', 'cos_PTE', 'weekday_0', 'weekday_1', 'weekday_2', 'weekday_3', 'weekday_4', 'weekday_5', 'weekday_6', 'PTE_1', 'PTE_2', 'PTE_3', 'PTE_4', 'PTE_5', 'PTE_6', 'PTE_7', 'PTE_8', 'PTE_9', 'PTE_10', 'PTE_11', 'PTE_12', 'PTE_13', 'PTE_14', 'PTE_15', 'PTE_16', 'PTE_17', 'PTE_18', 'PTE_19', 'PTE_20', 'PTE_21', 'PTE_22', 'PTE_23', 'PTE_24', 'PTE_25', 'PTE_26', 'PTE_27', 'PTE_28', 'PTE_29', 'PTE_30', 'PTE_31', 'PTE_32', 'PTE_33', 'PTE_34', 'PTE_35', 'PTE_36', 'PTE_37', 'PTE_38', 'PTE_39', 'PTE_40', 'PTE_41', 'PTE_42', 'PTE_43', 'PTE_44', 'PTE_45', 'PTE_46', 'PTE_47', 'PTE_48', 'PTE_49', 'PTE_50', 'PTE_51', 'PTE_52', 'PTE_53', 'PTE_54', 'PTE_55', 'PTE_56', 'PTE_57', 'PTE_58', 'PTE_59', 'PTE_60', 'PTE_61', 'PTE_62', 'PTE_63', 'PTE_64', 'PTE_65', 'PTE_66', 'PTE_67', 'PTE_68', 'PTE_69', 'PTE_70', 'PTE_71', 'PTE_72', 'PTE_73', 'PTE_74', 'PTE_75', 'PTE_76', 'PTE_77', 'PTE_78', 'PTE_79', 'PTE_80', 'PTE_81', 'PTE_82', 'PTE_83', 'PTE_84', 'PTE_85', 'PTE_86', 'PTE_87', 'PTE_88', 'PTE_89', 'PTE_90', 'PTE_91', 'PTE_92', 'PTE_93', 'PTE_94', 'PTE_95', 'PTE_96', 'take_from_system_price_96', 'take_from_system_price_97', 'take_from_system_price_98', 'take_from_system_price_99', 'take_from_system_price_100', 'take_from_system_price_101', 'take_from_system_price_102', 'take_from_system_price_103', 'take_from_system_price_104', 'take_from_system_price_105', 'take_from_system_price_106', 'take_from_system_price_107', 'take_from_system_price_108', 'take_from_system_price_109', 'take_from_system_price_110', 'take_from_system_price_111', 'take_from_system_price_112', 'take_from_system_price_113', 'take_from_system_price_114', 'take_from_system_price_115', 'take_from_system_price_116', 'take_from_system_price_117', 'take_from_system_price_118', 'take_from_system_price_119', 'take_from_system_price_120', 'take_from_system_price_121', 'take_from_system_price_122', 'take_from_system_price_123', 'take_from_system_price_124', 'take_from_system_price_125', 'take_from_system_price_126', 'take_from_system_price_127', 'take_from_system_price_128', 'take_from_system_price_129', 'take_from_system_price_130', 'take_from_system_price_131', 'take_from_system_price_132', 'take_from_system_price_133', 'take_from_system_price_134', 'take_from_system_price_135', 'take_from_system_price_136', 'take_from_system_price_137', 'take_from_system_price_138', 'take_from_system_price_139', 'take_from_system_price_140', 'take_from_system_price_141', 'take_from_system_price_142', 'take_from_system_price_143', 'take_from_system_price_144', 'take_from_system_price_145', 'take_from_system_price_146', 'take_from_system_price_147', 'take_from_system_price_148', 'take_from_system_price_149', 'take_from_system_price_150', 'take_from_system_price_151', 'take_from_system_price_152', 'take_from_system_price_153', 'take_from_system_price_154', 'take_from_system_price_155', 'take_from_system_price_156', 'take_from_system_price_157', 'take_from_system_price_158', 'take_from_system_price_159', 'take_from_system_price_160', 'take_from_system_price_161', 'take_from_system_price_162', 'take_from_system_price_163', 'take_from_system_price_164', 'take_from_system_price_165', 'take_from_system_price_166', 'take_from_system_price_167', 'take_from_system_price_168', 'take_from_system_price_169', 'take_from_system_price_170', 'take_from_system_price_171', 'take_from_system_price_172', 'take_from_system_price_173', 'take_from_system_price_174', 'take_from_system_price_175', 'take_from_system_price_176', 'take_from_system_price_177', 'take_from_system_price_178', 'take_from_system_price_179', 'take_from_system_price_180', 'take_from_system_price_181', 'take_from_system_price_182', 'take_from_system_price_183', 'take_from_system_price_184', 'take_from_system_price_185', 'take_from_system_price_186', 'take_from_system_price_187', 'take_from_system_price_188', 'take_from_system_price_189', 'take_from_system_price_190', 'take_from_system_price_191', 'feed_into_system_price_96', 'feed_into_system_price_97', 'feed_into_system_price_98', 'feed_into_system_price_99', 'feed_into_system_price_100', 'feed_into_system_price_101', 'feed_into_system_price_102', 'feed_into_system_price_103', 'feed_into_system_price_104', 'feed_into_system_price_105', 'feed_into_system_price_106', 'feed_into_system_price_107', 'feed_into_system_price_108', 'feed_into_system_price_109', 'feed_into_system_price_110', 'feed_into_system_price_111', 'feed_into_system_price_112', 'feed_into_system_price_113', 'feed_into_system_price_114', 'feed_into_system_price_115', 'feed_into_system_price_116', 'feed_into_system_price_117', 'feed_into_system_price_118', 'feed_into_system_price_119', 'feed_into_system_price_120', 'feed_into_system_price_121', 'feed_into_system_price_122', 'feed_into_system_price_123', 'feed_into_system_price_124', 'feed_into_system_price_125', 'feed_into_system_price_126', 'feed_into_system_price_127', 'feed_into_system_price_128', 'feed_into_system_price_129', 'feed_into_system_price_130', 'feed_into_system_price_131', 'feed_into_system_price_132', 'feed_into_system_price_133', 'feed_into_system_price_134', 'feed_into_system_price_135', 'feed_into_system_price_136', 'feed_into_system_price_137', 'feed_into_system_price_138', 'feed_into_system_price_139', 'feed_into_system_price_140', 'feed_into_system_price_141', 'feed_into_system_price_142', 'feed_into_system_price_143', 'feed_into_system_price_144', 'feed_into_system_price_145', 'feed_into_system_price_146', 'feed_into_system_price_147', 'feed_into_system_price_148', 'feed_into_system_price_149', 'feed_into_system_price_150', 'feed_into_system_price_151', 'feed_into_system_price_152', 'feed_into_system_price_153', 'feed_into_system_price_154', 'feed_into_system_price_155', 'feed_into_system_price_156', 'feed_into_system_price_157', 'feed_into_system_price_158', 'feed_into_system_price_159', 'feed_into_system_price_160', 'feed_into_system_price_161', 'feed_into_system_price_162', 'feed_into_system_price_163', 'feed_into_system_price_164', 'feed_into_system_price_165', 'feed_into_system_price_166', 'feed_into_system_price_167', 'feed_into_system_price_168', 'feed_into_system_price_169', 'feed_into_system_price_170', 'feed_into_system_price_171', 'feed_into_system_price_172', 'feed_into_system_price_173', 'feed_into_system_price_174', 'feed_into_system_price_175', 'feed_into_system_price_176', 'feed_into_system_price_177', 'feed_into_system_price_178', 'feed_into_system_price_179', 'feed_into_system_price_180', 'feed_into_system_price_181', 'feed_into_system_price_182', 'feed_into_system_price_183', 'feed_into_system_price_184', 'feed_into_system_price_185', 'feed_into_system_price_186', 'feed_into_system_price_187', 'feed_into_system_price_188', 'feed_into_system_price_189', 'feed_into_system_price_190', 'feed_into_system_price_191', 'DA-price_96', 'DA-price_97', 'DA-price_190', 'DA-price_192', 'DA-price_194'] ['solar_value', 'solar_maxvalue', 'solar_minvalue', 'wind_value', 'wind_maxvalue', 'wind_minvalue', 'sin_weekday', 'cos_weekday', 'sin_month', 'cos_month', 'sin_day', 'cos_day', 'sin_PTE', 'cos_PTE', 'weekday_0', 'weekday_1', 'weekday_2', 'weekday_3', 'weekday_4', 'weekday_5', 'weekday_6', 'PTE_1', 'PTE_2', 'PTE_3', 'PTE_4', 'PTE_5', 'PTE_6', 'PTE_7', 'PTE_8', 'PTE_9', 'PTE_10', 'PTE_11', 'PTE_12', 'PTE_13', 'PTE_14', 'PTE_15', 'PTE_16', 'PTE_17', 'PTE_18', 'PTE_19', 'PTE_20', 'PTE_21', 'PTE_22', 'PTE_23', 'PTE_24', 'PTE_25', 'PTE_26', 'PTE_27', 'PTE_28', 'PTE_29', 'PTE_30', 'PTE_31', 'PTE_32', 'PTE_33', 'PTE_34', 'PTE_35', 'PTE_36', 'PTE_37', 'PTE_38', 'PTE_39', 'PTE_40', 'PTE_41', 'PTE_42', 'PTE_43', 'PTE_44', 'PTE_45', 'PTE_46', 'PTE_47', 'PTE_48', 'PTE_49', 'PTE_50', 'PTE_51', 'PTE_52', 'PTE_53', 'PTE_54', 'PTE_55', 'PTE_56', 'PTE_57', 'PTE_58', 'PTE_59', 'PTE_60', 'PTE_61', 'PTE_62', 'PTE_63', 'PTE_64', 'PTE_65', 'PTE_66', 'PTE_67', 'PTE_68', 'PTE_69', 'PTE_70', 'PTE_71', 'PTE_72', 'PTE_73', 'PTE_74', 'PTE_75', 'PTE_76', 'PTE_77', 'PTE_78', 'PTE_79', 'PTE_80', 'PTE_81', 'PTE_82', 'PTE_83', 'PTE_84', 'PTE_85', 'PTE_86', 'PTE_87', 'PTE_88', 'PTE_89', 'PTE_90', 'PTE_91', 'PTE_92', 'PTE_93', 'PTE_94', 'PTE_95', 'PTE_96', 'take_from_system_price_96', 'take_from_system_price_97', 'take_from_system_price_98', 'take_from_system_price_99', 'take_from_system_price_100', 'take_from_system_price_101', 'take_from_system_price_102', 'take_from_system_price_103', 'take_from_system_price_104', 'take_from_system_price_105', 'take_from_system_price_106', 'take_from_system_price_107', 'take_from_system_price_108', 'take_from_system_price_109', 'take_from_system_price_110', 'take_from_system_price_111', 'take_from_system_price_112', 'take_from_system_price_113', 'take_from_system_price_114', 'take_from_system_price_115', 'take_from_system_price_116', 'take_from_system_price_117', 'take_from_system_price_118', 'take_from_system_price_119', 'take_from_system_price_120', 'take_from_system_price_121', 'take_from_system_price_122', 'take_from_system_price_123', 'take_from_system_price_124', 'take_from_system_price_125', 'take_from_system_price_126', 'take_from_system_price_127', 'take_from_system_price_128', 'take_from_system_price_129', 'take_from_system_price_130', 'take_from_system_price_131', 'take_from_system_price_132', 'take_from_system_price_133', 'take_from_system_price_134', 'take_from_system_price_135', 'take_from_system_price_136', 'take_from_system_price_137', 'take_from_system_price_138', 'take_from_system_price_139', 'take_from_system_price_140', 'take_from_system_price_141', 'take_from_system_price_142', 'take_from_system_price_143', 'take_from_system_price_144', 'take_from_system_price_145', 'take_from_system_price_146', 'take_from_system_price_147', 'take_from_system_price_148', 'take_from_system_price_149', 'take_from_system_price_150', 'take_from_system_price_151', 'take_from_system_price_152', 'take_from_system_price_153', 'take_from_system_price_154', 'take_from_system_price_155', 'take_from_system_price_156', 'take_from_system_price_157', 'take_from_system_price_158', 'take_from_system_price_159', 'take_from_system_price_160', 'take_from_system_price_161', 'take_from_system_price_162', 'take_from_system_price_163', 'take_from_system_price_164', 'take_from_system_price_165', 'take_from_system_price_166', 'take_from_system_price_167', 'take_from_system_price_168', 'take_from_system_price_169', 'take_from_system_price_170', 'take_from_system_price_171', 'take_from_system_price_172', 'take_from_system_price_173', 'take_from_system_price_174', 'take_from_system_price_175', 'take_from_system_price_176', 'take_from_system_price_177', 'take_from_system_price_178', 'take_from_system_price_179', 'take_from_system_price_180', 'take_from_system_price_181', 'take_from_system_price_182', 'take_from_system_price_183', 'take_from_system_price_184', 'take_from_system_price_185', 'take_from_system_price_186', 'take_from_system_price_187', 'take_from_system_price_188', 'take_from_system_price_189', 'take_from_system_price_190', 'take_from_system_price_191', 'feed_into_system_price_96', 'feed_into_system_price_97', 'feed_into_system_price_98', 'feed_into_system_price_99', 'feed_into_system_price_100', 'feed_into_system_price_101', 'feed_into_system_price_102', 'feed_into_system_price_103', 'feed_into_system_price_104', 'feed_into_system_price_105', 'feed_into_system_price_106', 'feed_into_system_price_107', 'feed_into_system_price_108', 'feed_into_system_price_109', 'feed_into_system_price_110', 'feed_into_system_price_111', 'feed_into_system_price_112', 'feed_into_system_price_113', 'feed_into_system_price_114', 'feed_into_system_price_115', 'feed_into_system_price_116', 'feed_into_system_price_117', 'feed_into_system_price_118', 'feed_into_system_price_119', 'feed_into_system_price_120', 'feed_into_system_price_121', 'feed_into_system_price_122', 'feed_into_system_price_123', 'feed_into_system_price_124', 'feed_into_system_price_125', 'feed_into_system_price_126', 'feed_into_system_price_127', 'feed_into_system_price_128', 'feed_into_system_price_129', 'feed_into_system_price_130', 'feed_into_system_price_131', 'feed_into_system_price_132', 'feed_into_system_price_133', 'feed_into_system_price_134', 'feed_into_system_price_135', 'feed_into_system_price_136', 'feed_into_system_price_137', 'feed_into_system_price_138', 'feed_into_system_price_139', 'feed_into_system_price_140', 'feed_into_system_price_141', 'feed_into_system_price_142', 'feed_into_system_price_143', 'feed_into_system_price_144', 'feed_into_system_price_145', 'feed_into_system_price_146', 'feed_into_system_price_147', 'feed_into_system_price_148', 'feed_into_system_price_149', 'feed_into_system_price_150', 'feed_into_system_price_151', 'feed_into_system_price_152', 'feed_into_system_price_153', 'feed_into_system_price_154', 'feed_into_system_price_155', 'feed_into_system_price_156', 'feed_into_system_price_157', 'feed_into_system_price_158', 'feed_into_system_price_159', 'feed_into_system_price_160', 'feed_into_system_price_161', 'feed_into_system_price_162', 'feed_into_system_price_163', 'feed_into_system_price_164', 'feed_into_system_price_165', 'feed_into_system_price_166', 'feed_into_system_price_167', 'feed_into_system_price_168', 'feed_into_system_price_169', 'feed_into_system_price_170', 'feed_into_system_price_171', 'feed_into_system_price_172', 'feed_into_system_price_173', 'feed_into_system_price_174', 'feed_into_system_price_175', 'feed_into_system_price_176', 'feed_into_system_price_177', 'feed_into_system_price_178', 'feed_into_system_price_179', 'feed_into_system_price_180', 'feed_into_system_price_181', 'feed_into_system_price_182', 'feed_into_system_price_183', 'feed_into_system_price_184', 'feed_into_system_price_185', 'feed_into_system_price_186', 'feed_into_system_price_187', 'feed_into_system_price_188', 'feed_into_system_price_189', 'feed_into_system_price_190', 'feed_into_system_price_191', 'DA-price_96', 'DA-price_97', 'DA-price_190', 'DA-price_192', 'DA-price_194', 'system_purchase_vol_96', 'system_purchase_vol_97', 'system_purchase_vol_190', 'system_purchase_vol_192', 'system_purchase_vol_194', 'system_sell_vol_96', 'system_sell_vol_97', 'system_sell_vol_190', 'system_sell_vol_192', 'system_sell_vol_194', 'system_absolute_vol_96', 'system_absolute_vol_97', 'system_absolute_vol_190', 'system_absolute_vol_192', 'system_absolute_vol_194', 'wind_value_96', 'wind_value_97', 'wind_value_190', 'wind_value_192', 'wind_value_194']\ntraining data did not have the following fields: wind_value_96, system_absolute_vol_192, system_absolute_vol_97, system_purchase_vol_96, wind_value_194, system_sell_vol_96, wind_value_190, system_sell_vol_192, system_absolute_vol_96, system_purchase_vol_97, system_sell_vol_194, system_sell_vol_190, wind_value_192, system_absolute_vol_194, system_purchase_vol_194, wind_value_97, system_purchase_vol_192, system_purchase_vol_190, system_sell_vol_97, system_absolute_vol_190",
     "output_type": "error",
     "traceback": [
      "\u001b[1;31m---------------------------------------------------------------------------\u001b[0m",
      "\u001b[1;31mValueError\u001b[0m                                Traceback (most recent call last)",
      "\u001b[1;32m<ipython-input-46-e7dac390b2dc>\u001b[0m in \u001b[0;36m<module>\u001b[1;34m()\u001b[0m\n\u001b[0;32m      1\u001b[0m \u001b[0mtest_x\u001b[0m\u001b[1;33m,\u001b[0m \u001b[0mtest_y\u001b[0m \u001b[1;33m=\u001b[0m \u001b[0mclassification_feat_pipeline\u001b[0m\u001b[1;33m(\u001b[0m\u001b[0mlag_dict2\u001b[0m\u001b[1;33m,\u001b[0m \u001b[0mtest_df\u001b[0m\u001b[1;33m)\u001b[0m\u001b[1;33m\u001b[0m\u001b[0m\n\u001b[0;32m      2\u001b[0m \u001b[0mtest_y\u001b[0m \u001b[1;33m=\u001b[0m \u001b[0mtest_y\u001b[0m\u001b[1;33m[\u001b[0m\u001b[1;34m'DA>TAKE'\u001b[0m\u001b[1;33m]\u001b[0m\u001b[1;33m\u001b[0m\u001b[0m\n\u001b[1;32m----> 3\u001b[1;33m \u001b[0mtest_proba\u001b[0m \u001b[1;33m=\u001b[0m \u001b[0mbest_model2\u001b[0m\u001b[1;33m.\u001b[0m\u001b[0mpredict_proba\u001b[0m\u001b[1;33m(\u001b[0m\u001b[0mtest_x\u001b[0m\u001b[1;33m)\u001b[0m\u001b[1;33m[\u001b[0m\u001b[1;33m:\u001b[0m\u001b[1;33m,\u001b[0m\u001b[1;36m1\u001b[0m\u001b[1;33m]\u001b[0m\u001b[1;33m\u001b[0m\u001b[0m\n\u001b[0m\u001b[0;32m      4\u001b[0m \u001b[0mtest_pred\u001b[0m \u001b[1;33m=\u001b[0m \u001b[0mbest_model2\u001b[0m\u001b[1;33m.\u001b[0m\u001b[0mpredict\u001b[0m\u001b[1;33m(\u001b[0m\u001b[0mtest_x\u001b[0m\u001b[1;33m)\u001b[0m\u001b[1;33m\u001b[0m\u001b[0m\n\u001b[0;32m      5\u001b[0m \u001b[1;33m\u001b[0m\u001b[0m\n",
      "\u001b[1;32mc:\\apps\\Program Files\\Continuum\\Anaconda3\\lib\\site-packages\\xgboost\\sklearn.py\u001b[0m in \u001b[0;36mpredict_proba\u001b[1;34m(self, data, output_margin, ntree_limit)\u001b[0m\n\u001b[0;32m    573\u001b[0m         class_probs = self.get_booster().predict(test_dmatrix,\n\u001b[0;32m    574\u001b[0m                                                  \u001b[0moutput_margin\u001b[0m\u001b[1;33m=\u001b[0m\u001b[0moutput_margin\u001b[0m\u001b[1;33m,\u001b[0m\u001b[1;33m\u001b[0m\u001b[0m\n\u001b[1;32m--> 575\u001b[1;33m                                                  ntree_limit=ntree_limit)\n\u001b[0m\u001b[0;32m    576\u001b[0m         \u001b[1;32mif\u001b[0m \u001b[0mself\u001b[0m\u001b[1;33m.\u001b[0m\u001b[0mobjective\u001b[0m \u001b[1;33m==\u001b[0m \u001b[1;34m\"multi:softprob\"\u001b[0m\u001b[1;33m:\u001b[0m\u001b[1;33m\u001b[0m\u001b[0m\n\u001b[0;32m    577\u001b[0m             \u001b[1;32mreturn\u001b[0m \u001b[0mclass_probs\u001b[0m\u001b[1;33m\u001b[0m\u001b[0m\n",
      "\u001b[1;32mc:\\apps\\Program Files\\Continuum\\Anaconda3\\lib\\site-packages\\xgboost\\core.py\u001b[0m in \u001b[0;36mpredict\u001b[1;34m(self, data, output_margin, ntree_limit, pred_leaf, pred_contribs, approx_contribs, pred_interactions)\u001b[0m\n\u001b[0;32m   1048\u001b[0m             \u001b[0moption_mask\u001b[0m \u001b[1;33m|=\u001b[0m \u001b[1;36m0x10\u001b[0m\u001b[1;33m\u001b[0m\u001b[0m\n\u001b[0;32m   1049\u001b[0m \u001b[1;33m\u001b[0m\u001b[0m\n\u001b[1;32m-> 1050\u001b[1;33m         \u001b[0mself\u001b[0m\u001b[1;33m.\u001b[0m\u001b[0m_validate_features\u001b[0m\u001b[1;33m(\u001b[0m\u001b[0mdata\u001b[0m\u001b[1;33m)\u001b[0m\u001b[1;33m\u001b[0m\u001b[0m\n\u001b[0m\u001b[0;32m   1051\u001b[0m \u001b[1;33m\u001b[0m\u001b[0m\n\u001b[0;32m   1052\u001b[0m         \u001b[0mlength\u001b[0m \u001b[1;33m=\u001b[0m \u001b[0mc_bst_ulong\u001b[0m\u001b[1;33m(\u001b[0m\u001b[1;33m)\u001b[0m\u001b[1;33m\u001b[0m\u001b[0m\n",
      "\u001b[1;32mc:\\apps\\Program Files\\Continuum\\Anaconda3\\lib\\site-packages\\xgboost\\core.py\u001b[0m in \u001b[0;36m_validate_features\u001b[1;34m(self, data)\u001b[0m\n\u001b[0;32m   1306\u001b[0m \u001b[1;33m\u001b[0m\u001b[0m\n\u001b[0;32m   1307\u001b[0m                 raise ValueError(msg.format(self.feature_names,\n\u001b[1;32m-> 1308\u001b[1;33m                                             data.feature_names))\n\u001b[0m\u001b[0;32m   1309\u001b[0m \u001b[1;33m\u001b[0m\u001b[0m\n\u001b[0;32m   1310\u001b[0m     \u001b[1;32mdef\u001b[0m \u001b[0mget_split_value_histogram\u001b[0m\u001b[1;33m(\u001b[0m\u001b[0mself\u001b[0m\u001b[1;33m,\u001b[0m \u001b[0mfeature\u001b[0m\u001b[1;33m,\u001b[0m \u001b[0mfmap\u001b[0m\u001b[1;33m=\u001b[0m\u001b[1;34m''\u001b[0m\u001b[1;33m,\u001b[0m \u001b[0mbins\u001b[0m\u001b[1;33m=\u001b[0m\u001b[1;32mNone\u001b[0m\u001b[1;33m,\u001b[0m \u001b[0mas_pandas\u001b[0m\u001b[1;33m=\u001b[0m\u001b[1;32mTrue\u001b[0m\u001b[1;33m)\u001b[0m\u001b[1;33m:\u001b[0m\u001b[1;33m\u001b[0m\u001b[0m\n",
      "\u001b[1;31mValueError\u001b[0m: feature_names mismatch: ['solar_value', 'solar_maxvalue', 'solar_minvalue', 'wind_value', 'wind_maxvalue', 'wind_minvalue', 'sin_weekday', 'cos_weekday', 'sin_month', 'cos_month', 'sin_day', 'cos_day', 'sin_PTE', 'cos_PTE', 'weekday_0', 'weekday_1', 'weekday_2', 'weekday_3', 'weekday_4', 'weekday_5', 'weekday_6', 'PTE_1', 'PTE_2', 'PTE_3', 'PTE_4', 'PTE_5', 'PTE_6', 'PTE_7', 'PTE_8', 'PTE_9', 'PTE_10', 'PTE_11', 'PTE_12', 'PTE_13', 'PTE_14', 'PTE_15', 'PTE_16', 'PTE_17', 'PTE_18', 'PTE_19', 'PTE_20', 'PTE_21', 'PTE_22', 'PTE_23', 'PTE_24', 'PTE_25', 'PTE_26', 'PTE_27', 'PTE_28', 'PTE_29', 'PTE_30', 'PTE_31', 'PTE_32', 'PTE_33', 'PTE_34', 'PTE_35', 'PTE_36', 'PTE_37', 'PTE_38', 'PTE_39', 'PTE_40', 'PTE_41', 'PTE_42', 'PTE_43', 'PTE_44', 'PTE_45', 'PTE_46', 'PTE_47', 'PTE_48', 'PTE_49', 'PTE_50', 'PTE_51', 'PTE_52', 'PTE_53', 'PTE_54', 'PTE_55', 'PTE_56', 'PTE_57', 'PTE_58', 'PTE_59', 'PTE_60', 'PTE_61', 'PTE_62', 'PTE_63', 'PTE_64', 'PTE_65', 'PTE_66', 'PTE_67', 'PTE_68', 'PTE_69', 'PTE_70', 'PTE_71', 'PTE_72', 'PTE_73', 'PTE_74', 'PTE_75', 'PTE_76', 'PTE_77', 'PTE_78', 'PTE_79', 'PTE_80', 'PTE_81', 'PTE_82', 'PTE_83', 'PTE_84', 'PTE_85', 'PTE_86', 'PTE_87', 'PTE_88', 'PTE_89', 'PTE_90', 'PTE_91', 'PTE_92', 'PTE_93', 'PTE_94', 'PTE_95', 'PTE_96', 'take_from_system_price_96', 'take_from_system_price_97', 'take_from_system_price_98', 'take_from_system_price_99', 'take_from_system_price_100', 'take_from_system_price_101', 'take_from_system_price_102', 'take_from_system_price_103', 'take_from_system_price_104', 'take_from_system_price_105', 'take_from_system_price_106', 'take_from_system_price_107', 'take_from_system_price_108', 'take_from_system_price_109', 'take_from_system_price_110', 'take_from_system_price_111', 'take_from_system_price_112', 'take_from_system_price_113', 'take_from_system_price_114', 'take_from_system_price_115', 'take_from_system_price_116', 'take_from_system_price_117', 'take_from_system_price_118', 'take_from_system_price_119', 'take_from_system_price_120', 'take_from_system_price_121', 'take_from_system_price_122', 'take_from_system_price_123', 'take_from_system_price_124', 'take_from_system_price_125', 'take_from_system_price_126', 'take_from_system_price_127', 'take_from_system_price_128', 'take_from_system_price_129', 'take_from_system_price_130', 'take_from_system_price_131', 'take_from_system_price_132', 'take_from_system_price_133', 'take_from_system_price_134', 'take_from_system_price_135', 'take_from_system_price_136', 'take_from_system_price_137', 'take_from_system_price_138', 'take_from_system_price_139', 'take_from_system_price_140', 'take_from_system_price_141', 'take_from_system_price_142', 'take_from_system_price_143', 'take_from_system_price_144', 'take_from_system_price_145', 'take_from_system_price_146', 'take_from_system_price_147', 'take_from_system_price_148', 'take_from_system_price_149', 'take_from_system_price_150', 'take_from_system_price_151', 'take_from_system_price_152', 'take_from_system_price_153', 'take_from_system_price_154', 'take_from_system_price_155', 'take_from_system_price_156', 'take_from_system_price_157', 'take_from_system_price_158', 'take_from_system_price_159', 'take_from_system_price_160', 'take_from_system_price_161', 'take_from_system_price_162', 'take_from_system_price_163', 'take_from_system_price_164', 'take_from_system_price_165', 'take_from_system_price_166', 'take_from_system_price_167', 'take_from_system_price_168', 'take_from_system_price_169', 'take_from_system_price_170', 'take_from_system_price_171', 'take_from_system_price_172', 'take_from_system_price_173', 'take_from_system_price_174', 'take_from_system_price_175', 'take_from_system_price_176', 'take_from_system_price_177', 'take_from_system_price_178', 'take_from_system_price_179', 'take_from_system_price_180', 'take_from_system_price_181', 'take_from_system_price_182', 'take_from_system_price_183', 'take_from_system_price_184', 'take_from_system_price_185', 'take_from_system_price_186', 'take_from_system_price_187', 'take_from_system_price_188', 'take_from_system_price_189', 'take_from_system_price_190', 'take_from_system_price_191', 'feed_into_system_price_96', 'feed_into_system_price_97', 'feed_into_system_price_98', 'feed_into_system_price_99', 'feed_into_system_price_100', 'feed_into_system_price_101', 'feed_into_system_price_102', 'feed_into_system_price_103', 'feed_into_system_price_104', 'feed_into_system_price_105', 'feed_into_system_price_106', 'feed_into_system_price_107', 'feed_into_system_price_108', 'feed_into_system_price_109', 'feed_into_system_price_110', 'feed_into_system_price_111', 'feed_into_system_price_112', 'feed_into_system_price_113', 'feed_into_system_price_114', 'feed_into_system_price_115', 'feed_into_system_price_116', 'feed_into_system_price_117', 'feed_into_system_price_118', 'feed_into_system_price_119', 'feed_into_system_price_120', 'feed_into_system_price_121', 'feed_into_system_price_122', 'feed_into_system_price_123', 'feed_into_system_price_124', 'feed_into_system_price_125', 'feed_into_system_price_126', 'feed_into_system_price_127', 'feed_into_system_price_128', 'feed_into_system_price_129', 'feed_into_system_price_130', 'feed_into_system_price_131', 'feed_into_system_price_132', 'feed_into_system_price_133', 'feed_into_system_price_134', 'feed_into_system_price_135', 'feed_into_system_price_136', 'feed_into_system_price_137', 'feed_into_system_price_138', 'feed_into_system_price_139', 'feed_into_system_price_140', 'feed_into_system_price_141', 'feed_into_system_price_142', 'feed_into_system_price_143', 'feed_into_system_price_144', 'feed_into_system_price_145', 'feed_into_system_price_146', 'feed_into_system_price_147', 'feed_into_system_price_148', 'feed_into_system_price_149', 'feed_into_system_price_150', 'feed_into_system_price_151', 'feed_into_system_price_152', 'feed_into_system_price_153', 'feed_into_system_price_154', 'feed_into_system_price_155', 'feed_into_system_price_156', 'feed_into_system_price_157', 'feed_into_system_price_158', 'feed_into_system_price_159', 'feed_into_system_price_160', 'feed_into_system_price_161', 'feed_into_system_price_162', 'feed_into_system_price_163', 'feed_into_system_price_164', 'feed_into_system_price_165', 'feed_into_system_price_166', 'feed_into_system_price_167', 'feed_into_system_price_168', 'feed_into_system_price_169', 'feed_into_system_price_170', 'feed_into_system_price_171', 'feed_into_system_price_172', 'feed_into_system_price_173', 'feed_into_system_price_174', 'feed_into_system_price_175', 'feed_into_system_price_176', 'feed_into_system_price_177', 'feed_into_system_price_178', 'feed_into_system_price_179', 'feed_into_system_price_180', 'feed_into_system_price_181', 'feed_into_system_price_182', 'feed_into_system_price_183', 'feed_into_system_price_184', 'feed_into_system_price_185', 'feed_into_system_price_186', 'feed_into_system_price_187', 'feed_into_system_price_188', 'feed_into_system_price_189', 'feed_into_system_price_190', 'feed_into_system_price_191', 'DA-price_96', 'DA-price_97', 'DA-price_190', 'DA-price_192', 'DA-price_194'] ['solar_value', 'solar_maxvalue', 'solar_minvalue', 'wind_value', 'wind_maxvalue', 'wind_minvalue', 'sin_weekday', 'cos_weekday', 'sin_month', 'cos_month', 'sin_day', 'cos_day', 'sin_PTE', 'cos_PTE', 'weekday_0', 'weekday_1', 'weekday_2', 'weekday_3', 'weekday_4', 'weekday_5', 'weekday_6', 'PTE_1', 'PTE_2', 'PTE_3', 'PTE_4', 'PTE_5', 'PTE_6', 'PTE_7', 'PTE_8', 'PTE_9', 'PTE_10', 'PTE_11', 'PTE_12', 'PTE_13', 'PTE_14', 'PTE_15', 'PTE_16', 'PTE_17', 'PTE_18', 'PTE_19', 'PTE_20', 'PTE_21', 'PTE_22', 'PTE_23', 'PTE_24', 'PTE_25', 'PTE_26', 'PTE_27', 'PTE_28', 'PTE_29', 'PTE_30', 'PTE_31', 'PTE_32', 'PTE_33', 'PTE_34', 'PTE_35', 'PTE_36', 'PTE_37', 'PTE_38', 'PTE_39', 'PTE_40', 'PTE_41', 'PTE_42', 'PTE_43', 'PTE_44', 'PTE_45', 'PTE_46', 'PTE_47', 'PTE_48', 'PTE_49', 'PTE_50', 'PTE_51', 'PTE_52', 'PTE_53', 'PTE_54', 'PTE_55', 'PTE_56', 'PTE_57', 'PTE_58', 'PTE_59', 'PTE_60', 'PTE_61', 'PTE_62', 'PTE_63', 'PTE_64', 'PTE_65', 'PTE_66', 'PTE_67', 'PTE_68', 'PTE_69', 'PTE_70', 'PTE_71', 'PTE_72', 'PTE_73', 'PTE_74', 'PTE_75', 'PTE_76', 'PTE_77', 'PTE_78', 'PTE_79', 'PTE_80', 'PTE_81', 'PTE_82', 'PTE_83', 'PTE_84', 'PTE_85', 'PTE_86', 'PTE_87', 'PTE_88', 'PTE_89', 'PTE_90', 'PTE_91', 'PTE_92', 'PTE_93', 'PTE_94', 'PTE_95', 'PTE_96', 'take_from_system_price_96', 'take_from_system_price_97', 'take_from_system_price_98', 'take_from_system_price_99', 'take_from_system_price_100', 'take_from_system_price_101', 'take_from_system_price_102', 'take_from_system_price_103', 'take_from_system_price_104', 'take_from_system_price_105', 'take_from_system_price_106', 'take_from_system_price_107', 'take_from_system_price_108', 'take_from_system_price_109', 'take_from_system_price_110', 'take_from_system_price_111', 'take_from_system_price_112', 'take_from_system_price_113', 'take_from_system_price_114', 'take_from_system_price_115', 'take_from_system_price_116', 'take_from_system_price_117', 'take_from_system_price_118', 'take_from_system_price_119', 'take_from_system_price_120', 'take_from_system_price_121', 'take_from_system_price_122', 'take_from_system_price_123', 'take_from_system_price_124', 'take_from_system_price_125', 'take_from_system_price_126', 'take_from_system_price_127', 'take_from_system_price_128', 'take_from_system_price_129', 'take_from_system_price_130', 'take_from_system_price_131', 'take_from_system_price_132', 'take_from_system_price_133', 'take_from_system_price_134', 'take_from_system_price_135', 'take_from_system_price_136', 'take_from_system_price_137', 'take_from_system_price_138', 'take_from_system_price_139', 'take_from_system_price_140', 'take_from_system_price_141', 'take_from_system_price_142', 'take_from_system_price_143', 'take_from_system_price_144', 'take_from_system_price_145', 'take_from_system_price_146', 'take_from_system_price_147', 'take_from_system_price_148', 'take_from_system_price_149', 'take_from_system_price_150', 'take_from_system_price_151', 'take_from_system_price_152', 'take_from_system_price_153', 'take_from_system_price_154', 'take_from_system_price_155', 'take_from_system_price_156', 'take_from_system_price_157', 'take_from_system_price_158', 'take_from_system_price_159', 'take_from_system_price_160', 'take_from_system_price_161', 'take_from_system_price_162', 'take_from_system_price_163', 'take_from_system_price_164', 'take_from_system_price_165', 'take_from_system_price_166', 'take_from_system_price_167', 'take_from_system_price_168', 'take_from_system_price_169', 'take_from_system_price_170', 'take_from_system_price_171', 'take_from_system_price_172', 'take_from_system_price_173', 'take_from_system_price_174', 'take_from_system_price_175', 'take_from_system_price_176', 'take_from_system_price_177', 'take_from_system_price_178', 'take_from_system_price_179', 'take_from_system_price_180', 'take_from_system_price_181', 'take_from_system_price_182', 'take_from_system_price_183', 'take_from_system_price_184', 'take_from_system_price_185', 'take_from_system_price_186', 'take_from_system_price_187', 'take_from_system_price_188', 'take_from_system_price_189', 'take_from_system_price_190', 'take_from_system_price_191', 'feed_into_system_price_96', 'feed_into_system_price_97', 'feed_into_system_price_98', 'feed_into_system_price_99', 'feed_into_system_price_100', 'feed_into_system_price_101', 'feed_into_system_price_102', 'feed_into_system_price_103', 'feed_into_system_price_104', 'feed_into_system_price_105', 'feed_into_system_price_106', 'feed_into_system_price_107', 'feed_into_system_price_108', 'feed_into_system_price_109', 'feed_into_system_price_110', 'feed_into_system_price_111', 'feed_into_system_price_112', 'feed_into_system_price_113', 'feed_into_system_price_114', 'feed_into_system_price_115', 'feed_into_system_price_116', 'feed_into_system_price_117', 'feed_into_system_price_118', 'feed_into_system_price_119', 'feed_into_system_price_120', 'feed_into_system_price_121', 'feed_into_system_price_122', 'feed_into_system_price_123', 'feed_into_system_price_124', 'feed_into_system_price_125', 'feed_into_system_price_126', 'feed_into_system_price_127', 'feed_into_system_price_128', 'feed_into_system_price_129', 'feed_into_system_price_130', 'feed_into_system_price_131', 'feed_into_system_price_132', 'feed_into_system_price_133', 'feed_into_system_price_134', 'feed_into_system_price_135', 'feed_into_system_price_136', 'feed_into_system_price_137', 'feed_into_system_price_138', 'feed_into_system_price_139', 'feed_into_system_price_140', 'feed_into_system_price_141', 'feed_into_system_price_142', 'feed_into_system_price_143', 'feed_into_system_price_144', 'feed_into_system_price_145', 'feed_into_system_price_146', 'feed_into_system_price_147', 'feed_into_system_price_148', 'feed_into_system_price_149', 'feed_into_system_price_150', 'feed_into_system_price_151', 'feed_into_system_price_152', 'feed_into_system_price_153', 'feed_into_system_price_154', 'feed_into_system_price_155', 'feed_into_system_price_156', 'feed_into_system_price_157', 'feed_into_system_price_158', 'feed_into_system_price_159', 'feed_into_system_price_160', 'feed_into_system_price_161', 'feed_into_system_price_162', 'feed_into_system_price_163', 'feed_into_system_price_164', 'feed_into_system_price_165', 'feed_into_system_price_166', 'feed_into_system_price_167', 'feed_into_system_price_168', 'feed_into_system_price_169', 'feed_into_system_price_170', 'feed_into_system_price_171', 'feed_into_system_price_172', 'feed_into_system_price_173', 'feed_into_system_price_174', 'feed_into_system_price_175', 'feed_into_system_price_176', 'feed_into_system_price_177', 'feed_into_system_price_178', 'feed_into_system_price_179', 'feed_into_system_price_180', 'feed_into_system_price_181', 'feed_into_system_price_182', 'feed_into_system_price_183', 'feed_into_system_price_184', 'feed_into_system_price_185', 'feed_into_system_price_186', 'feed_into_system_price_187', 'feed_into_system_price_188', 'feed_into_system_price_189', 'feed_into_system_price_190', 'feed_into_system_price_191', 'DA-price_96', 'DA-price_97', 'DA-price_190', 'DA-price_192', 'DA-price_194', 'system_purchase_vol_96', 'system_purchase_vol_97', 'system_purchase_vol_190', 'system_purchase_vol_192', 'system_purchase_vol_194', 'system_sell_vol_96', 'system_sell_vol_97', 'system_sell_vol_190', 'system_sell_vol_192', 'system_sell_vol_194', 'system_absolute_vol_96', 'system_absolute_vol_97', 'system_absolute_vol_190', 'system_absolute_vol_192', 'system_absolute_vol_194', 'wind_value_96', 'wind_value_97', 'wind_value_190', 'wind_value_192', 'wind_value_194']\ntraining data did not have the following fields: wind_value_96, system_absolute_vol_192, system_absolute_vol_97, system_purchase_vol_96, wind_value_194, system_sell_vol_96, wind_value_190, system_sell_vol_192, system_absolute_vol_96, system_purchase_vol_97, system_sell_vol_194, system_sell_vol_190, wind_value_192, system_absolute_vol_194, system_purchase_vol_194, wind_value_97, system_purchase_vol_192, system_purchase_vol_190, system_sell_vol_97, system_absolute_vol_190"
     ]
    }
   ],
   "source": [
    "test_x, test_y = classification_feat_pipeline(lag_dict2, test_df)\n",
    "test_y = test_y['DA>TAKE']\n",
    "test_proba = best_model2.predict_proba(test_x)[:,1]\n",
    "test_pred = best_model2.predict(test_x)\n",
    "\n",
    "metrics2 = Evaluator(test_proba, test_y).classification_metrics()\n",
    "metrics2"
   ]
  },
  {
   "cell_type": "code",
   "execution_count": 30,
   "metadata": {},
   "outputs": [
    {
     "data": {
      "text/plain": [
       "(7384, 25828)"
      ]
     },
     "execution_count": 30,
     "metadata": {},
     "output_type": "execute_result"
    }
   ],
   "source": [
    "len(train_df[train_df['DA>TAKE'] == 0]), len(train_df[train_df['DA>TAKE'] == 1])"
   ]
  },
  {
   "cell_type": "code",
   "execution_count": 31,
   "metadata": {},
   "outputs": [
    {
     "data": {
      "text/plain": [
       "0.24370518592629647"
      ]
     },
     "execution_count": 31,
     "metadata": {},
     "output_type": "execute_result"
    }
   ],
   "source": [
    "len(test_pred[test_pred == 1])/len(test_pred)"
   ]
  },
  {
   "cell_type": "code",
   "execution_count": 26,
   "metadata": {},
   "outputs": [
    {
     "data": {
      "image/png": "[encoded data removed]",
      "text/plain": [
       "<Figure size 432x288 with 1 Axes>"
      ]
     },
     "metadata": {},
     "output_type": "display_data"
    }
   ],
   "source": [
    "_ = plot_predictions( test_proba[-96:], test_y[-96:] )"
   ]
  },
  {
   "cell_type": "code",
   "execution_count": 39,
   "metadata": {},
   "outputs": [],
   "source": [
    "save_result_to_file(data_folder_path+'/results/classification_acc/', metrics2['Accuracy'], lag_dict)"
   ]
  },
  {
   "cell_type": "code",
   "execution_count": null,
   "metadata": {},
   "outputs": [],
   "source": []
  }
 ],
 "metadata": {
  "kernelspec": {
   "display_name": "Python 3",
   "language": "python",
   "name": "python3"
  },
  "language_info": {
   "codemirror_mode": {
    "name": "ipython",
    "version": 3
   },
   "file_extension": ".py",
   "mimetype": "text/x-python",
   "name": "python",
   "nbconvert_exporter": "python",
   "pygments_lexer": "ipython3",
   "version": "3.6.5"
  },
  "toc": {
   "base_numbering": 1,
   "nav_menu": {},
   "number_sections": true,
   "sideBar": true,
   "skip_h1_title": false,
   "title_cell": "Table of Contents",
   "title_sidebar": "Contents",
   "toc_cell": false,
   "toc_position": {
    "height": "calc(100% - 180px)",
    "left": "10px",
    "top": "150px",
    "width": "165px"
   },
   "toc_section_display": true,
   "toc_window_display": true
  }
 },
 "nbformat": 4,
 "nbformat_minor": 2
}
