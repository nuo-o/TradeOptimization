{
 "cells": [
  {
   "cell_type": "markdown",
   "metadata": {},
   "source": [
    "# import"
   ]
  },
  {
   "cell_type": "code",
   "execution_count": 1,
   "metadata": {
    "scrolled": true
   },
   "outputs": [],
   "source": [
    "import sys \n",
    "sys.path.append('C:\\\\Users\\\\Nuo.Chen\\\\PycharmProjects\\\\Imbalance_price_forecast')\n",
    "from utils.import_packages import *\n",
    "# from data_gathering.prepare_data import *\n",
    "\n",
    "from xgboost import XGBClassifier, XGBRegressor\n",
    "from models.evaluation import *"
   ]
  },
  {
   "cell_type": "code",
   "execution_count": 4,
   "metadata": {},
   "outputs": [],
   "source": [
    "train_df = pd.read_excel(data_folder_path + '/train.xlsx')\n",
    "test_df = pd.read_excel(data_folder_path + '/test.xlsx')"
   ]
  },
  {
   "cell_type": "code",
   "execution_count": 15,
   "metadata": {},
   "outputs": [
    {
     "data": {
      "text/plain": [
       "0.687903893951947"
      ]
     },
     "execution_count": 15,
     "metadata": {},
     "output_type": "execute_result"
    }
   ],
   "source": [
    "len(train_df)/(len(test_df)+len(train_df))"
   ]
  },
  {
   "cell_type": "code",
   "execution_count": 20,
   "metadata": {},
   "outputs": [
    {
     "data": {
      "text/plain": [
       "34.40322774900638"
      ]
     },
     "execution_count": 20,
     "metadata": {},
     "output_type": "execute_result"
    }
   ],
   "source": [
    "pos_train = train_df[train_df['DA>TAKE'] == 1]\n",
    "neg_train = train_df[train_df['DA>TAKE'] == 0]\n",
    "len(neg_train)/len(train_df)*100"
   ]
  },
  {
   "cell_type": "code",
   "execution_count": 10,
   "metadata": {},
   "outputs": [
    {
     "data": {
      "text/plain": [
       "37.423679320414124"
      ]
     },
     "execution_count": 10,
     "metadata": {},
     "output_type": "execute_result"
    }
   ],
   "source": [
    "pos_test = test_df[test_df['DA>TAKE'] == 1]\n",
    "neg_test = test_df[test_df['DA>TAKE'] == 0]\n",
    "len(neg_test)/len(test_df)*100"
   ]
  },
  {
   "cell_type": "markdown",
   "metadata": {},
   "source": [
    "## cross validation"
   ]
  },
  {
   "cell_type": "code",
   "execution_count": 13,
   "metadata": {},
   "outputs": [],
   "source": [
    "def cross_validation(target, model, feat_params, df, isRegression, n_folds=5, print_temp_info=True):\n",
    "    results = defaultdict(list)\n",
    "    ts_split = TimeSeriesSplit(n_splits=n_folds)\n",
    "    feat_cols = None\n",
    "\n",
    "    for fold, (train_index, test_index) in enumerate(ts_split.split(df), 1):\n",
    "        start_time = time.time()\n",
    "        print('Fold:{}'.format(fold))\n",
    "        cv_train = df.iloc[train_index, :]\n",
    "        cv_test = df.iloc[test_index, :]\n",
    "\n",
    "        if isRegression:\n",
    "            train_x, train_y = regression_feat_pipeline(feat_params, cv_train)\n",
    "            test_x, test_y = regression_feat_pipeline(feat_params, cv_test)\n",
    "            feat_cols = train_x.columns\n",
    "            cv_model = model()\n",
    "            cv_model.fit(train_x, train_y[target])\n",
    "\n",
    "            train_pred = [round(p, 2) for p in cv_model.predict(train_x)]\n",
    "            test_pred = [round(p, 2) for p in cv_model.predict(test_x)]\n",
    "\n",
    "            train_metrics = Evaluator(train_pred, train_y[target]).regression_metrics()\n",
    "            test_metrics = Evaluator(test_pred, test_y[target]).regression_metrics()\n",
    "            results['test_WMAPE'].append(test_metrics['WMAPE'])\n",
    "            results['models'].append(cv_model)\n",
    "\n",
    "            if print_temp_info:\n",
    "                print('train:')\n",
    "                print(train_metrics)\n",
    "                print('test:')\n",
    "                print(test_metrics)\n",
    "                print('takes:{} min\\n'.format(round((time.time() - start_time) / 60, 2)))\n",
    "        else:\n",
    "            train_x, train_y = classification_feat_pipeline(feat_params, cv_train)\n",
    "            test_x, test_y = classification_feat_pipeline(feat_params, cv_test)\n",
    "            feat_cols = train_x.columns\n",
    "            \n",
    "            cv_model = model()\n",
    "            cv_model.fit(train_x, train_y[target])\n",
    "#             train_pred = cv_model.predict_proba(train_x)[:, 1]\n",
    "#             test_pred = cv_model.predict_proba(test_x)[:, 1]\n",
    "            train_pred = cv_model.predict(train_x)\n",
    "            test_pred = cv_model.predict(test_x)\n",
    "\n",
    "            train_metrics = Evaluator(train_pred, train_y[target]).classification_metrics()\n",
    "            test_metrics = Evaluator(test_pred, test_y[target]).classification_metrics()\n",
    "            results['auc'].append(test_metrics['AUC'])\n",
    "            results['models'].append(cv_model)\n",
    "\n",
    "            if print_temp_info:\n",
    "                print('train:')\n",
    "                print(train_metrics)\n",
    "                print('test:')\n",
    "                print(test_metrics)\n",
    "                print('takes:{} min\\n'.format(round((time.time() - start_time) / 60, 2)))\n",
    "\n",
    "    return results, feat_cols\n"
   ]
  },
  {
   "cell_type": "markdown",
   "metadata": {},
   "source": [
    "# train regression"
   ]
  },
  {
   "cell_type": "markdown",
   "metadata": {},
   "source": [
    "train: 2016-01-01 - 2016-12-11\n",
    "\n",
    "test: 2017-12-27 - 2018-6-1\n",
    "\n",
    "train/test = 6.8:3.2"
   ]
  },
  {
   "cell_type": "markdown",
   "metadata": {},
   "source": [
    "## feat pipeline"
   ]
  },
  {
   "cell_type": "code",
   "execution_count": 16,
   "metadata": {},
   "outputs": [],
   "source": [
    "def regression_feat_pipeline(lag_dict, df):\n",
    "    df = make_date_feature(df)\n",
    "    # hot-encoding weekday and pte    \n",
    "    dummy_date = pd.get_dummies(df['weekday'], prefix='weekday')\n",
    "    dummy_PTE = pd.get_dummies(df['PTE'], prefix = 'PTE')\n",
    "    df = pd.concat([df, dummy_date, dummy_PTE], axis = 1)\n",
    "    df.drop(['weekday'], axis=1)\n",
    "\n",
    "    # lag feat\n",
    "    for lag_column, lag_value in lag_dict.items():\n",
    "        lag_feat = make_lag_feat(lag_column, lag_value, df)\n",
    "        df = pd.concat([df, lag_feat], axis=1)\n",
    "    \n",
    "   # standardize\n",
    "    clasy_cols = ['DA>FEED', 'DA>TAKE', 'Date', 'DateTime','day', 'month','PTE','weekday',\n",
    "                        'week', 'sin_weekday', 'sin_month', 'sin_day', 'sin_PTE',\n",
    "                        'take_from_system_price', 'feed_into_system_price']\n",
    "    clasy_cols.extend(dummy_date.columns)\n",
    "    clasy_cols.extend(dummy_PTE.columns)\n",
    "\n",
    "    df= standardize_feat(df, clasy_cols)\n",
    "    \n",
    "    # select x,y\n",
    "    y = df[['DA>FEED', 'DA>TAKE', 'take_from_system_price', 'feed_into_system_price', 'DA-price']]    \n",
    "    X = df.drop(['DA>FEED', 'DA>TAKE', 'take_from_system_price', 'feed_into_system_price',\\\n",
    "                 'DA-price', 'system_purchase_vol', 'system_sell_vol', 'system_absolute_vol',\\\n",
    "                 'DateTime', 'week', 'Date', 'PTE','weekday'], \\\n",
    "                axis=1)\n",
    "    return X, y                                                                        "
   ]
  },
  {
   "cell_type": "code",
   "execution_count": 17,
   "metadata": {},
   "outputs": [],
   "source": [
    "lag_values = {'yesterday': np.arange(96,96*2),\\\n",
    "             'two_days': np.arange(96, 96*3),\\\n",
    "             'same_time_before': [96, 96*2, 96*3],\\\n",
    "             'around_time_before':[96, 97, 95*2, 96*2, 97*2]}\n",
    "lag_dict = {'take_from_system_price':lag_values['yesterday'],\\\n",
    "           'feed_into_system_price':lag_values['yesterday'],\\\n",
    "           'DA-price':lag_values['around_time_before'],\\\n",
    "           'system_purchase_vol':lag_values['around_time_before'],\\\n",
    "           'system_sell_vol':lag_values['around_time_before'],\\\n",
    "           'system_absolute_vol':lag_values['around_time_before'],\\\n",
    "           'wind_value':lag_values['around_time_before']}"
   ]
  },
  {
   "cell_type": "markdown",
   "metadata": {},
   "source": [
    "## train"
   ]
  },
  {
   "cell_type": "code",
   "execution_count": 18,
   "metadata": {},
   "outputs": [],
   "source": [
    "# X, Y = regression_feat_pipeline(lag_dict, train_df)"
   ]
  },
  {
   "cell_type": "code",
   "execution_count": 19,
   "metadata": {
    "scrolled": false
   },
   "outputs": [
    {
     "name": "stdout",
     "output_type": "stream",
     "text": [
      "Fold:1\n",
      "train:\n",
      "{'MPE': 23.0527, 'MAPE': 101.4811, 'WMAPE': 0.0058}\n",
      "test:\n",
      "{'MPE': 58.9808, 'MAPE': 153.1161, 'WMAPE': 0.0121}\n",
      "takes:0.39 min\n",
      "\n",
      "Fold:2\n",
      "train:\n",
      "{'MPE': 130.2737, 'MAPE': 294.6366, 'WMAPE': 0.0037}\n",
      "test:\n",
      "{'MPE': 48.5137, 'MAPE': 152.8672, 'WMAPE': 0.0135}\n",
      "takes:0.5 min\n",
      "\n",
      "Fold:3\n",
      "train:\n",
      "{'MPE': 32.1738, 'MAPE': 133.4395, 'WMAPE': 0.0027}\n",
      "test:\n",
      "{'MPE': 61.5493, 'MAPE': 176.9338, 'WMAPE': 0.0112}\n",
      "takes:0.61 min\n",
      "\n",
      "Fold:4\n",
      "train:\n",
      "{'MPE': 59.5314, 'MAPE': 160.6507, 'WMAPE': 0.0021}\n",
      "test:\n",
      "{'MPE': -1149.1965, 'MAPE': 1412.1242, 'WMAPE': 0.0108}\n",
      "takes:0.72 min\n",
      "\n",
      "Fold:5\n",
      "train:\n",
      "{'MPE': 31.8547, 'MAPE': 176.339, 'WMAPE': 0.0017}\n",
      "test:\n",
      "{'MPE': 83.3162, 'MAPE': 209.6825, 'WMAPE': 0.0143}\n",
      "takes:0.83 min\n",
      "\n"
     ]
    }
   ],
   "source": [
    "out1,feat_cols = cross_validation('DA-price',XGBRegressor,\\\n",
    "                                  lag_dict,train_df, isRegression = True) "
   ]
  },
  {
   "cell_type": "markdown",
   "metadata": {},
   "source": [
    "## feat importance"
   ]
  },
  {
   "cell_type": "code",
   "execution_count": 21,
   "metadata": {},
   "outputs": [
    {
     "data": {
      "text/html": [
       "<div>\n",
       "<style scoped>\n",
       "    .dataframe tbody tr th:only-of-type {\n",
       "        vertical-align: middle;\n",
       "    }\n",
       "\n",
       "    .dataframe tbody tr th {\n",
       "        vertical-align: top;\n",
       "    }\n",
       "\n",
       "    .dataframe thead th {\n",
       "        text-align: right;\n",
       "    }\n",
       "</style>\n",
       "<table border=\"1\" class=\"dataframe\">\n",
       "  <thead>\n",
       "    <tr style=\"text-align: right;\">\n",
       "      <th></th>\n",
       "      <th>importances</th>\n",
       "      <th>features</th>\n",
       "    </tr>\n",
       "  </thead>\n",
       "  <tbody>\n",
       "    <tr>\n",
       "      <th>5</th>\n",
       "      <td>0.016012</td>\n",
       "      <td>wind_minvalue</td>\n",
       "    </tr>\n",
       "    <tr>\n",
       "      <th>332</th>\n",
       "      <td>0.018923</td>\n",
       "      <td>wind_value_192</td>\n",
       "    </tr>\n",
       "    <tr>\n",
       "      <th>2</th>\n",
       "      <td>0.018923</td>\n",
       "      <td>solar_minvalue</td>\n",
       "    </tr>\n",
       "    <tr>\n",
       "      <th>313</th>\n",
       "      <td>0.020378</td>\n",
       "      <td>DA-price_194</td>\n",
       "    </tr>\n",
       "    <tr>\n",
       "      <th>1</th>\n",
       "      <td>0.021834</td>\n",
       "      <td>solar_maxvalue</td>\n",
       "    </tr>\n",
       "    <tr>\n",
       "      <th>329</th>\n",
       "      <td>0.023290</td>\n",
       "      <td>wind_value_96</td>\n",
       "    </tr>\n",
       "    <tr>\n",
       "      <th>9</th>\n",
       "      <td>0.023290</td>\n",
       "      <td>cos_month</td>\n",
       "    </tr>\n",
       "    <tr>\n",
       "      <th>331</th>\n",
       "      <td>0.027656</td>\n",
       "      <td>wind_value_190</td>\n",
       "    </tr>\n",
       "    <tr>\n",
       "      <th>0</th>\n",
       "      <td>0.032023</td>\n",
       "      <td>solar_value</td>\n",
       "    </tr>\n",
       "    <tr>\n",
       "      <th>12</th>\n",
       "      <td>0.032023</td>\n",
       "      <td>sin_PTE</td>\n",
       "    </tr>\n",
       "    <tr>\n",
       "      <th>4</th>\n",
       "      <td>0.034934</td>\n",
       "      <td>wind_maxvalue</td>\n",
       "    </tr>\n",
       "    <tr>\n",
       "      <th>7</th>\n",
       "      <td>0.037846</td>\n",
       "      <td>cos_weekday</td>\n",
       "    </tr>\n",
       "    <tr>\n",
       "      <th>11</th>\n",
       "      <td>0.039301</td>\n",
       "      <td>cos_day</td>\n",
       "    </tr>\n",
       "    <tr>\n",
       "      <th>8</th>\n",
       "      <td>0.039301</td>\n",
       "      <td>sin_month</td>\n",
       "    </tr>\n",
       "    <tr>\n",
       "      <th>10</th>\n",
       "      <td>0.046579</td>\n",
       "      <td>sin_day</td>\n",
       "    </tr>\n",
       "    <tr>\n",
       "      <th>3</th>\n",
       "      <td>0.046579</td>\n",
       "      <td>wind_value</td>\n",
       "    </tr>\n",
       "    <tr>\n",
       "      <th>312</th>\n",
       "      <td>0.048035</td>\n",
       "      <td>DA-price_192</td>\n",
       "    </tr>\n",
       "    <tr>\n",
       "      <th>6</th>\n",
       "      <td>0.074236</td>\n",
       "      <td>sin_weekday</td>\n",
       "    </tr>\n",
       "    <tr>\n",
       "      <th>13</th>\n",
       "      <td>0.074236</td>\n",
       "      <td>cos_PTE</td>\n",
       "    </tr>\n",
       "    <tr>\n",
       "      <th>309</th>\n",
       "      <td>0.144105</td>\n",
       "      <td>DA-price_96</td>\n",
       "    </tr>\n",
       "  </tbody>\n",
       "</table>\n",
       "</div>"
      ],
      "text/plain": [
       "     importances        features\n",
       "5       0.016012   wind_minvalue\n",
       "332     0.018923  wind_value_192\n",
       "2       0.018923  solar_minvalue\n",
       "313     0.020378    DA-price_194\n",
       "1       0.021834  solar_maxvalue\n",
       "329     0.023290   wind_value_96\n",
       "9       0.023290       cos_month\n",
       "331     0.027656  wind_value_190\n",
       "0       0.032023     solar_value\n",
       "12      0.032023         sin_PTE\n",
       "4       0.034934   wind_maxvalue\n",
       "7       0.037846     cos_weekday\n",
       "11      0.039301         cos_day\n",
       "8       0.039301       sin_month\n",
       "10      0.046579         sin_day\n",
       "3       0.046579      wind_value\n",
       "312     0.048035    DA-price_192\n",
       "6       0.074236     sin_weekday\n",
       "13      0.074236         cos_PTE\n",
       "309     0.144105     DA-price_96"
      ]
     },
     "execution_count": 21,
     "metadata": {},
     "output_type": "execute_result"
    }
   ],
   "source": [
    "model_error = out1['test_WMAPE']\n",
    "best_model = out1['models'][model_error.index(min(model_error))]\n",
    "\n",
    "plot_feature_importance(best_model, feat_cols)[-20:]"
   ]
  },
  {
   "cell_type": "markdown",
   "metadata": {},
   "source": [
    "## test"
   ]
  },
  {
   "cell_type": "code",
   "execution_count": 22,
   "metadata": {},
   "outputs": [],
   "source": [
    "test_x, test_y = regression_feat_pipeline(lag_dict, test_df)\n",
    "test_true = test_y['take_from_system_price']\n",
    "test_pred = best_model.predict(test_x)\n",
    "test_pred = [round(p,2) for p in test_pred]"
   ]
  },
  {
   "cell_type": "code",
   "execution_count": 23,
   "metadata": {},
   "outputs": [
    {
     "data": {
      "text/plain": [
       "{'MPE': 100.5337, 'MAPE': 101.5057, 'WMAPE': 0.0067}"
      ]
     },
     "execution_count": 23,
     "metadata": {},
     "output_type": "execute_result"
    }
   ],
   "source": [
    "metrics = Evaluator(test_pred, test_true).regression_metrics()\n",
    "metrics"
   ]
  },
  {
   "cell_type": "code",
   "execution_count": 24,
   "metadata": {},
   "outputs": [
    {
     "data": {
      "image/png": "[encoded data removed]",
      "text/plain": [
       "<Figure size 432x288 with 1 Axes>"
      ]
     },
     "metadata": {},
     "output_type": "display_data"
    }
   ],
   "source": [
    "_ = plot_predictions( test_pred[-96:], test_true[-96:] )"
   ]
  },
  {
   "cell_type": "code",
   "execution_count": 25,
   "metadata": {},
   "outputs": [],
   "source": [
    "save_result_to_file(data_folder_path+'/results/regression_wmape/', metrics['WMAPE'], lag_dict)"
   ]
  },
  {
   "cell_type": "markdown",
   "metadata": {},
   "source": [
    "# DA > TAKE"
   ]
  },
  {
   "cell_type": "markdown",
   "metadata": {},
   "source": [
    "## feat pipeline"
   ]
  },
  {
   "cell_type": "code",
   "execution_count": 26,
   "metadata": {},
   "outputs": [],
   "source": [
    "lag_values2 = {'yesterday': np.arange(96,96*2),\\\n",
    "             'two_days': np.arange(96, 96*3),\\\n",
    "             'same_time_before': [96, 96*2, 96*3],\\\n",
    "             'around_time_before':[96, 97, 95*2, 96*2, 97*2]}\n",
    "lag_dict2 = {'take_from_system_price':lag_values2['yesterday'],\\\n",
    "           'feed_into_system_price':lag_values2['yesterday'],\\\n",
    "           'DA-price':lag_values2['around_time_before'],\\\n",
    "           'system_purchase_vol':lag_values2['around_time_before'],\\\n",
    "           'system_sell_vol':lag_values2['around_time_before'],\\\n",
    "           'system_absolute_vol':lag_values2['around_time_before'],\\\n",
    "           'wind_value':lag_values2['around_time_before']}"
   ]
  },
  {
   "cell_type": "code",
   "execution_count": 27,
   "metadata": {},
   "outputs": [],
   "source": [
    "def classification_feat_pipeline(lag_dict, df):\n",
    "    df = make_date_feature(df)\n",
    "    # hot-encoding weekday and pte    \n",
    "    dummy_date = pd.get_dummies(df['weekday'], prefix='weekday')\n",
    "    dummy_PTE = pd.get_dummies(df['PTE'], prefix = 'PTE')\n",
    "    df = pd.concat([df, dummy_date, dummy_PTE], axis = 1)\n",
    "    df.drop(['weekday'], axis=1)\n",
    "\n",
    "    # lag feat\n",
    "    for lag_column, lag_value in lag_dict.items():\n",
    "        lag_feat = make_lag_feat(lag_column, lag_value, df)\n",
    "        df = pd.concat([df, lag_feat], axis=1)\n",
    "    \n",
    "   # standardize\n",
    "    clasy_cols = ['DA>FEED', 'DA>TAKE', 'Date', 'DateTime','day', 'month','PTE','weekday',\n",
    "                        'week', 'sin_weekday', 'sin_month', 'sin_day', 'sin_PTE',\n",
    "                        'take_from_system_price', 'feed_into_system_price']\n",
    "    clasy_cols.extend(dummy_date.columns)\n",
    "    clasy_cols.extend(dummy_PTE.columns)\n",
    "\n",
    "    df= standardize_feat(df, clasy_cols)\n",
    "    \n",
    "    # select x,y\n",
    "    y = df[['DA>FEED', 'DA>TAKE', 'take_from_system_price', 'feed_into_system_price']]    \n",
    "    X = df.drop(['DA>FEED', 'DA>TAKE', 'take_from_system_price', 'feed_into_system_price',\\\n",
    "                 'DA-price', 'system_purchase_vol', 'system_sell_vol', 'system_absolute_vol',\\\n",
    "                 'DateTime', 'week', 'Date', 'PTE','weekday'], \\\n",
    "                axis=1)\n",
    "    return X, y"
   ]
  },
  {
   "cell_type": "markdown",
   "metadata": {},
   "source": [
    "## train"
   ]
  },
  {
   "cell_type": "code",
   "execution_count": 28,
   "metadata": {},
   "outputs": [
    {
     "name": "stdout",
     "output_type": "stream",
     "text": [
      "Fold:1\n",
      "train:\n",
      "{'AUC': '0.7586', 'Accuracy': 80.4978}\n",
      "test:\n",
      "{'AUC': '0.6002', 'Accuracy': 67.299}\n",
      "takes:0.4 min\n",
      "\n",
      "Fold:2\n",
      "train:\n",
      "{'AUC': '0.6845', 'Accuracy': 75.8217}\n",
      "test:\n",
      "{'AUC': '0.6096', 'Accuracy': 67.4593}\n",
      "takes:0.5 min\n",
      "\n",
      "Fold:3\n",
      "train:\n",
      "{'AUC': '0.6752', 'Accuracy': 73.7863}\n",
      "test:\n",
      "{'AUC': '0.6188', 'Accuracy': 69.2941}\n",
      "takes:0.63 min\n",
      "\n",
      "Fold:4\n",
      "train:\n",
      "{'AUC': '0.6655', 'Accuracy': 72.9287}\n",
      "test:\n",
      "{'AUC': '0.5987', 'Accuracy': 72.6081}\n",
      "takes:0.71 min\n",
      "\n",
      "Fold:5\n",
      "train:\n",
      "{'AUC': '0.6486', 'Accuracy': 72.7809}\n",
      "test:\n",
      "{'AUC': '0.5590', 'Accuracy': 69.4966}\n",
      "takes:0.85 min\n",
      "\n"
     ]
    }
   ],
   "source": [
    "out2,feat_cols2 = cross_validation('DA>TAKE',XGBClassifier,\\\n",
    "                                  lag_dict2,train_df, isRegression = False,\\\n",
    "                                   n_folds = 5) "
   ]
  },
  {
   "cell_type": "markdown",
   "metadata": {},
   "source": [
    "## feat importance"
   ]
  },
  {
   "cell_type": "code",
   "execution_count": 29,
   "metadata": {},
   "outputs": [
    {
     "data": {
      "text/html": [
       "<div>\n",
       "<style scoped>\n",
       "    .dataframe tbody tr th:only-of-type {\n",
       "        vertical-align: middle;\n",
       "    }\n",
       "\n",
       "    .dataframe tbody tr th {\n",
       "        vertical-align: top;\n",
       "    }\n",
       "\n",
       "    .dataframe thead th {\n",
       "        text-align: right;\n",
       "    }\n",
       "</style>\n",
       "<table border=\"1\" class=\"dataframe\">\n",
       "  <thead>\n",
       "    <tr style=\"text-align: right;\">\n",
       "      <th></th>\n",
       "      <th>importances</th>\n",
       "      <th>features</th>\n",
       "    </tr>\n",
       "  </thead>\n",
       "  <tbody>\n",
       "    <tr>\n",
       "      <th>317</th>\n",
       "      <td>0.022124</td>\n",
       "      <td>system_purchase_vol_192</td>\n",
       "    </tr>\n",
       "    <tr>\n",
       "      <th>322</th>\n",
       "      <td>0.023599</td>\n",
       "      <td>system_sell_vol_192</td>\n",
       "    </tr>\n",
       "    <tr>\n",
       "      <th>13</th>\n",
       "      <td>0.023599</td>\n",
       "      <td>cos_PTE</td>\n",
       "    </tr>\n",
       "    <tr>\n",
       "      <th>319</th>\n",
       "      <td>0.025074</td>\n",
       "      <td>system_sell_vol_96</td>\n",
       "    </tr>\n",
       "    <tr>\n",
       "      <th>2</th>\n",
       "      <td>0.026549</td>\n",
       "      <td>solar_minvalue</td>\n",
       "    </tr>\n",
       "    <tr>\n",
       "      <th>309</th>\n",
       "      <td>0.029499</td>\n",
       "      <td>DA-price_96</td>\n",
       "    </tr>\n",
       "    <tr>\n",
       "      <th>12</th>\n",
       "      <td>0.030973</td>\n",
       "      <td>sin_PTE</td>\n",
       "    </tr>\n",
       "    <tr>\n",
       "      <th>20</th>\n",
       "      <td>0.035398</td>\n",
       "      <td>weekday_6</td>\n",
       "    </tr>\n",
       "    <tr>\n",
       "      <th>11</th>\n",
       "      <td>0.035398</td>\n",
       "      <td>cos_day</td>\n",
       "    </tr>\n",
       "    <tr>\n",
       "      <th>117</th>\n",
       "      <td>0.044248</td>\n",
       "      <td>take_from_system_price_96</td>\n",
       "    </tr>\n",
       "  </tbody>\n",
       "</table>\n",
       "</div>"
      ],
      "text/plain": [
       "     importances                   features\n",
       "317     0.022124    system_purchase_vol_192\n",
       "322     0.023599        system_sell_vol_192\n",
       "13      0.023599                    cos_PTE\n",
       "319     0.025074         system_sell_vol_96\n",
       "2       0.026549             solar_minvalue\n",
       "309     0.029499                DA-price_96\n",
       "12      0.030973                    sin_PTE\n",
       "20      0.035398                  weekday_6\n",
       "11      0.035398                    cos_day\n",
       "117     0.044248  take_from_system_price_96"
      ]
     },
     "execution_count": 29,
     "metadata": {},
     "output_type": "execute_result"
    }
   ],
   "source": [
    "model_auc = out2['auc']\n",
    "best_model2 = out2['models'][model_auc.index(max(model_auc))]\n",
    "\n",
    "plot_feature_importance(best_model2, feat_cols2)[-10:]"
   ]
  },
  {
   "cell_type": "markdown",
   "metadata": {},
   "source": [
    "## test"
   ]
  },
  {
   "cell_type": "code",
   "execution_count": null,
   "metadata": {},
   "outputs": [],
   "source": [
    "cross_validation( train_df, 'DA>TAKE', XGBClassifier, make_feat_pipeline, lag_dict)\n",
    "cross_validation(df, targetName, model, make_feat, feat_params, n_folds=5, classification = True, print_temp_info=True):"
   ]
  },
  {
   "cell_type": "code",
   "execution_count": null,
   "metadata": {},
   "outputs": [],
   "source": []
  },
  {
   "cell_type": "code",
   "execution_count": null,
   "metadata": {},
   "outputs": [],
   "source": []
  },
  {
   "cell_type": "code",
   "execution_count": null,
   "metadata": {},
   "outputs": [],
   "source": []
  },
  {
   "cell_type": "code",
   "execution_count": 30,
   "metadata": {},
   "outputs": [
    {
     "data": {
      "text/plain": [
       "{'AUC': '0.5920', 'Accuracy': 66.817}"
      ]
     },
     "execution_count": 30,
     "metadata": {},
     "output_type": "execute_result"
    }
   ],
   "source": [
    "test_x, test_y = classification_feat_pipeline(lag_dict2, test_df)\n",
    "test_y = test_y['DA>TAKE']\n",
    "test_proba = best_model2.predict_proba(test_x)[:,1]\n",
    "test_pred = best_model2.predict(test_x)\n",
    "\n",
    "metrics2 = Evaluator(test_pred, test_y).classification_metrics()\n",
    "metrics2"
   ]
  },
  {
   "cell_type": "code",
   "execution_count": 32,
   "metadata": {},
   "outputs": [
    {
     "data": {
      "text/plain": [
       "62.43521572322811"
      ]
     },
     "execution_count": 32,
     "metadata": {},
     "output_type": "execute_result"
    }
   ],
   "source": [
    "np.sum(test_y)/len(test_y)*100"
   ]
  },
  {
   "cell_type": "code",
   "execution_count": 33,
   "metadata": {},
   "outputs": [
    {
     "data": {
      "image/png": "[encoded data removed]",
      "text/plain": [
       "<Figure size 432x288 with 1 Axes>"
      ]
     },
     "metadata": {},
     "output_type": "display_data"
    }
   ],
   "source": [
    "_ = plot_predictions( test_proba[-96:], test_y[-96:] )"
   ]
  },
  {
   "cell_type": "code",
   "execution_count": 34,
   "metadata": {},
   "outputs": [],
   "source": [
    "save_result_to_file(data_folder_path+'/results/classification_acc/', metrics2['Accuracy'], lag_dict)"
   ]
  },
  {
   "cell_type": "code",
   "execution_count": null,
   "metadata": {},
   "outputs": [],
   "source": []
  }
 ],
 "metadata": {
  "kernelspec": {
   "display_name": "Python 3",
   "language": "python",
   "name": "python3"
  },
  "language_info": {
   "codemirror_mode": {
    "name": "ipython",
    "version": 3
   },
   "file_extension": ".py",
   "mimetype": "text/x-python",
   "name": "python",
   "nbconvert_exporter": "python",
   "pygments_lexer": "ipython3",
   "version": "3.6.5"
  },
  "toc": {
   "base_numbering": 1,
   "nav_menu": {},
   "number_sections": true,
   "sideBar": true,
   "skip_h1_title": false,
   "title_cell": "Table of Contents",
   "title_sidebar": "Contents",
   "toc_cell": false,
   "toc_position": {
    "height": "calc(100% - 180px)",
    "left": "10px",
    "top": "150px",
    "width": "165px"
   },
   "toc_section_display": true,
   "toc_window_display": true
  }
 },
 "nbformat": 4,
 "nbformat_minor": 2
}
