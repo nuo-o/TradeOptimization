{
 "cells": [
  {
   "cell_type": "code",
   "execution_count": 4,
   "metadata": {},
   "outputs": [],
   "source": [
    "import sys \n",
    "sys.path.append('C:\\\\Users\\\\Nuo.Chen\\\\PycharmProjects\\\\Imbalance_price_forecast')\n",
    "from utils.import_packages import *\n",
    "import utils.hardcode_parameters as param\n",
    "from pathlib import Path\n",
    "from data_gathering.TimeHelper import TimeHelper\n",
    "from data_gathering.Filer import *\n",
    "from data_gathering.config import Configuration"
   ]
  },
  {
   "cell_type": "code",
   "execution_count": 14,
   "metadata": {},
   "outputs": [],
   "source": [
    "df,config = Configuration().readFile('nzwbaseline')\n",
    "df = df[['DeliveryDate', 'PERIOD', 'First_Forecast_Volume', 'ActualVolumes', 'Diff','Feed_Into','Take_From', 'DayAheadPrice', 'TotalPnL']]"
   ]
  },
  {
   "cell_type": "code",
   "execution_count": 15,
   "metadata": {},
   "outputs": [
    {
     "data": {
      "text/plain": [
       "data_path             /position/nzwbaseline.xlsx\n",
       "data_short_name                      nzwbaseline\n",
       "date_col                            DeliveryDate\n",
       "forecast_created_t                           nan\n",
       "forecast_v                 First_Forecast_Volume\n",
       "pte_col                                   PERIOD\n",
       "sheet_name                                Sheet3\n",
       "Name: 7, dtype: object"
      ]
     },
     "execution_count": 15,
     "metadata": {},
     "output_type": "execute_result"
    }
   ],
   "source": [
    "config"
   ]
  },
  {
   "cell_type": "code",
   "execution_count": 16,
   "metadata": {},
   "outputs": [
    {
     "data": {
      "text/html": [
       "<div>\n",
       "<style scoped>\n",
       "    .dataframe tbody tr th:only-of-type {\n",
       "        vertical-align: middle;\n",
       "    }\n",
       "\n",
       "    .dataframe tbody tr th {\n",
       "        vertical-align: top;\n",
       "    }\n",
       "\n",
       "    .dataframe thead th {\n",
       "        text-align: right;\n",
       "    }\n",
       "</style>\n",
       "<table border=\"1\" class=\"dataframe\">\n",
       "  <thead>\n",
       "    <tr style=\"text-align: right;\">\n",
       "      <th></th>\n",
       "      <th>DeliveryDate</th>\n",
       "      <th>PERIOD</th>\n",
       "      <th>First_Forecast_Volume</th>\n",
       "      <th>ActualVolumes</th>\n",
       "      <th>Diff</th>\n",
       "      <th>Feed_Into</th>\n",
       "      <th>Take_From</th>\n",
       "      <th>DayAheadPrice</th>\n",
       "      <th>TotalPnL</th>\n",
       "    </tr>\n",
       "  </thead>\n",
       "  <tbody>\n",
       "    <tr>\n",
       "      <th>0</th>\n",
       "      <td>2017-08-22</td>\n",
       "      <td>1</td>\n",
       "      <td>3435.48036</td>\n",
       "      <td>1657</td>\n",
       "      <td>1778.48036</td>\n",
       "      <td>33.04</td>\n",
       "      <td>33.04</td>\n",
       "      <td>32.77</td>\n",
       "      <td>-0.480190</td>\n",
       "    </tr>\n",
       "    <tr>\n",
       "      <th>1</th>\n",
       "      <td>2017-08-22</td>\n",
       "      <td>2</td>\n",
       "      <td>3435.48036</td>\n",
       "      <td>2033</td>\n",
       "      <td>1402.48036</td>\n",
       "      <td>34.40</td>\n",
       "      <td>34.40</td>\n",
       "      <td>32.77</td>\n",
       "      <td>-2.286043</td>\n",
       "    </tr>\n",
       "    <tr>\n",
       "      <th>2</th>\n",
       "      <td>2017-08-22</td>\n",
       "      <td>3</td>\n",
       "      <td>3435.48036</td>\n",
       "      <td>2358</td>\n",
       "      <td>1077.48036</td>\n",
       "      <td>34.62</td>\n",
       "      <td>34.62</td>\n",
       "      <td>32.77</td>\n",
       "      <td>-1.993339</td>\n",
       "    </tr>\n",
       "    <tr>\n",
       "      <th>3</th>\n",
       "      <td>2017-08-22</td>\n",
       "      <td>4</td>\n",
       "      <td>3435.48036</td>\n",
       "      <td>2869</td>\n",
       "      <td>566.48036</td>\n",
       "      <td>34.62</td>\n",
       "      <td>34.62</td>\n",
       "      <td>32.77</td>\n",
       "      <td>-1.047989</td>\n",
       "    </tr>\n",
       "    <tr>\n",
       "      <th>4</th>\n",
       "      <td>2017-08-22</td>\n",
       "      <td>5</td>\n",
       "      <td>3536.54541</td>\n",
       "      <td>3014</td>\n",
       "      <td>522.54541</td>\n",
       "      <td>38.71</td>\n",
       "      <td>38.71</td>\n",
       "      <td>30.00</td>\n",
       "      <td>-4.551371</td>\n",
       "    </tr>\n",
       "  </tbody>\n",
       "</table>\n",
       "</div>"
      ],
      "text/plain": [
       "  DeliveryDate  PERIOD  First_Forecast_Volume  ActualVolumes        Diff  \\\n",
       "0   2017-08-22       1             3435.48036           1657  1778.48036   \n",
       "1   2017-08-22       2             3435.48036           2033  1402.48036   \n",
       "2   2017-08-22       3             3435.48036           2358  1077.48036   \n",
       "3   2017-08-22       4             3435.48036           2869   566.48036   \n",
       "4   2017-08-22       5             3536.54541           3014   522.54541   \n",
       "\n",
       "   Feed_Into  Take_From  DayAheadPrice  TotalPnL  \n",
       "0      33.04      33.04          32.77 -0.480190  \n",
       "1      34.40      34.40          32.77 -2.286043  \n",
       "2      34.62      34.62          32.77 -1.993339  \n",
       "3      34.62      34.62          32.77 -1.047989  \n",
       "4      38.71      38.71          30.00 -4.551371  "
      ]
     },
     "execution_count": 16,
     "metadata": {},
     "output_type": "execute_result"
    }
   ],
   "source": [
    "df.head()"
   ]
  },
  {
   "cell_type": "code",
   "execution_count": 22,
   "metadata": {},
   "outputs": [
    {
     "data": {
      "text/plain": [
       "0          -479.709508\n",
       "1         -2283.756944\n",
       "2         -1991.345327\n",
       "3         -1046.940677\n",
       "4         -4546.819151\n",
       "5         -6269.490620\n",
       "6         -2696.763571\n",
       "7           228.391740\n",
       "8         -1045.548221\n",
       "9         -3569.775601\n",
       "10        -4705.816826\n",
       "11          625.228589\n",
       "12         -167.493750\n",
       "13          633.484470\n",
       "14         3912.912752\n",
       "15          274.861339\n",
       "16         9919.501521\n",
       "17         8892.696406\n",
       "18         7159.083570\n",
       "19         5142.516877\n",
       "20        -3623.067731\n",
       "21         6969.048246\n",
       "22         1600.559049\n",
       "23         2894.178378\n",
       "24       -12548.660509\n",
       "25        -7002.975143\n",
       "26        -5153.823982\n",
       "27        -3839.241488\n",
       "28       -16902.172380\n",
       "29        -7526.773195\n",
       "             ...      \n",
       "28574     19357.048919\n",
       "28575      6104.948831\n",
       "28576      1019.505432\n",
       "28577     -2936.907484\n",
       "28578     -7644.073594\n",
       "28579    -13169.270099\n",
       "28580      2266.507319\n",
       "28581     -7772.707501\n",
       "28582    -26800.225208\n",
       "28583    -28817.439448\n",
       "28584    -27591.165730\n",
       "28585    -12406.816640\n",
       "28586     -2633.151892\n",
       "28587     -3658.583249\n",
       "28588      -266.834125\n",
       "28589      -315.388762\n",
       "28590    -10371.300336\n",
       "28591     -9530.526994\n",
       "28592      1176.622408\n",
       "28593    -17711.362665\n",
       "28594    -22228.759853\n",
       "28595    -48992.759813\n",
       "28596    -46898.895830\n",
       "28597     -5789.303249\n",
       "28598     -2565.606567\n",
       "28599      8059.347210\n",
       "28600     -8773.250157\n",
       "28601      3045.326717\n",
       "28602     62416.954772\n",
       "28603    146653.807190\n",
       "Length: 28604, dtype: float64"
      ]
     },
     "execution_count": 22,
     "metadata": {},
     "output_type": "execute_result"
    }
   ],
   "source": [
    "total_pnl = df['Diff']*(df['DayAheadPrice']-df['Feed_Into'])\n",
    "total_pnl - df['TotalPnL']"
   ]
  },
  {
   "cell_type": "code",
   "execution_count": null,
   "metadata": {},
   "outputs": [],
   "source": [
    "totalPnL = [df['First_Forecast_Volume']]"
   ]
  }
 ],
 "metadata": {
  "kernelspec": {
   "display_name": "Python 3",
   "language": "python",
   "name": "python3"
  },
  "language_info": {
   "codemirror_mode": {
    "name": "ipython",
    "version": 3
   },
   "file_extension": ".py",
   "mimetype": "text/x-python",
   "name": "python",
   "nbconvert_exporter": "python",
   "pygments_lexer": "ipython3",
   "version": "3.6.5"
  },
  "toc": {
   "base_numbering": 1,
   "nav_menu": {},
   "number_sections": true,
   "sideBar": true,
   "skip_h1_title": false,
   "title_cell": "Table of Contents",
   "title_sidebar": "Contents",
   "toc_cell": false,
   "toc_position": {},
   "toc_section_display": true,
   "toc_window_display": false
  }
 },
 "nbformat": 4,
 "nbformat_minor": 2
}
