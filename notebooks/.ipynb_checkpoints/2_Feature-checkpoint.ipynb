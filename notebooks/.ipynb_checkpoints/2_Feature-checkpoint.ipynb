{
 "cells": [
  {
   "cell_type": "markdown",
   "metadata": {},
   "source": [
    "# import"
   ]
  },
  {
   "cell_type": "code",
   "execution_count": 18,
   "metadata": {
    "scrolled": true
   },
   "outputs": [],
   "source": [
    "import sys \n",
    "sys.path.append('C:\\\\Users\\\\Nuo.Chen\\\\PycharmProjects\\\\Imbalance_price_forecast')\n",
    "from utils.import_packages import *\n",
    "# from data_gathering.prepare_data import *\n",
    "\n",
    "from xgboost import XGBClassifier, XGBRegressor\n",
    "from models.evaluation import *"
   ]
  },
  {
   "cell_type": "code",
   "execution_count": 19,
   "metadata": {},
   "outputs": [],
   "source": [
    "train_df = pd.read_excel(data_folder_path + '/train.xlsx')\n",
    "test_df = pd.read_excel(data_folder_path + '/test.xlsx')"
   ]
  },
  {
   "cell_type": "markdown",
   "metadata": {},
   "source": [
    "## cross validation"
   ]
  },
  {
   "cell_type": "code",
   "execution_count": 3,
   "metadata": {},
   "outputs": [],
   "source": [
    "def cross_validation(target, model, feat_params, df, isRegression, n_folds=5, print_temp_info=True):\n",
    "    results = defaultdict(list)\n",
    "    ts_split = TimeSeriesSplit(n_splits=n_folds)\n",
    "    feat_cols = None\n",
    "\n",
    "    for fold, (train_index, test_index) in enumerate(ts_split.split(df), 1):\n",
    "        start_time = time.time()\n",
    "        print('Fold:{}'.format(fold))\n",
    "        cv_train = df.iloc[train_index, :]\n",
    "        cv_test = df.iloc[test_index, :]\n",
    "\n",
    "        if isRegression:\n",
    "            train_x, train_y = regression_feat_pipeline(feat_params, cv_train)\n",
    "            test_x, test_y = regression_feat_pipeline(feat_params, cv_test)\n",
    "            feat_cols = train_x.columns\n",
    "            cv_model = model()\n",
    "            cv_model.fit(train_x, train_y[target])\n",
    "\n",
    "            train_pred = [round(p, 2) for p in cv_model.predict(train_x)]\n",
    "            test_pred = [round(p, 2) for p in cv_model.predict(test_x)]\n",
    "\n",
    "            train_metrics = Evaluator(train_pred, train_y[target]).regression_metrics()\n",
    "            test_metrics = Evaluator(test_pred, test_y[target]).regression_metrics()\n",
    "            results['test_WMAPE'].append(test_metrics['WMAPE'])\n",
    "            results['models'].append(cv_model)\n",
    "\n",
    "            if print_temp_info:\n",
    "                print('train:')\n",
    "                print(train_metrics)\n",
    "                print('test:')\n",
    "                print(test_metrics)\n",
    "                print('takes:{} min\\n'.format(round((time.time() - start_time) / 60, 2)))\n",
    "        else:\n",
    "            train_x, train_y = classification_feat_pipeline(feat_params, cv_train)\n",
    "            test_x, test_y = classification_feat_pipeline(feat_params, cv_test)\n",
    "            feat_cols = train_x.columns\n",
    "            \n",
    "            cv_model = model()\n",
    "            cv_model.fit(train_x, train_y[target])\n",
    "#             train_pred = cv_model.predict_proba(train_x)[:, 1]\n",
    "#             test_pred = cv_model.predict_proba(test_x)[:, 1]\n",
    "            train_pred = cv_model.predict(train_x)\n",
    "            test_pred = cv_model.predict(test_x)\n",
    "\n",
    "            train_metrics = Evaluator(train_pred, train_y[target]).classification_metrics()\n",
    "            test_metrics = Evaluator(test_pred, test_y[target]).classification_metrics()\n",
    "            results['auc'].append(test_metrics['AUC'])\n",
    "            results['models'].append(cv_model)\n",
    "\n",
    "            if print_temp_info:\n",
    "                print('train:')\n",
    "                print(train_metrics)\n",
    "                print('test:')\n",
    "                print(test_metrics)\n",
    "                print('takes:{} min\\n'.format(round((time.time() - start_time) / 60, 2)))\n",
    "\n",
    "    return results, feat_cols\n"
   ]
  },
  {
   "cell_type": "markdown",
   "metadata": {},
   "source": [
    "# train regression"
   ]
  },
  {
   "cell_type": "markdown",
   "metadata": {},
   "source": [
    "train: 2016-01-01 - 2016-12-11\n",
    "\n",
    "test: 2017-12-27 - 2018-6-1\n",
    "\n",
    "train/test = 7:3"
   ]
  },
  {
   "cell_type": "markdown",
   "metadata": {},
   "source": [
    "## feat pipeline"
   ]
  },
  {
   "cell_type": "code",
   "execution_count": 16,
   "metadata": {},
   "outputs": [],
   "source": [
    "def regression_feat_pipeline(lag_dict, df):\n",
    "    df = make_date_feature(df)\n",
    "    # hot-encoding weekday and pte    \n",
    "    dummy_date = pd.get_dummies(df['weekday'], prefix='weekday')\n",
    "    dummy_PTE = pd.get_dummies(df['PTE'], prefix = 'PTE')\n",
    "    df = pd.concat([df, dummy_date, dummy_PTE], axis = 1)\n",
    "    df.drop(['weekday'], axis=1)\n",
    "\n",
    "    # lag feat\n",
    "    for lag_column, lag_value in lag_dict.items():\n",
    "        lag_feat = make_lag_feat(lag_column, lag_value, df)\n",
    "        df = pd.concat([df, lag_feat], axis=1)\n",
    "    \n",
    "   # standardize\n",
    "    clasy_cols = ['DA>FEED', 'DA>TAKE', 'Date', 'DateTime','day', 'month','PTE','weekday',\n",
    "                        'week', 'sin_weekday', 'sin_month', 'sin_day', 'sin_PTE',\n",
    "                        'take_from_system_price', 'feed_into_system_price']\n",
    "    clasy_cols.extend(dummy_date.columns)\n",
    "    clasy_cols.extend(dummy_PTE.columns)\n",
    "\n",
    "    df= standardize_feat(df, clasy_cols)\n",
    "    \n",
    "    # select x,y\n",
    "    y = df[['DA>FEED', 'DA>TAKE', 'take_from_system_price', 'feed_into_system_price']]    \n",
    "    X = df.drop(['DA>FEED', 'DA>TAKE', 'take_from_system_price', 'feed_into_system_price',\\\n",
    "                 'DA-price', 'system_purchase_vol', 'system_sell_vol', 'system_absolute_vol',\\\n",
    "                 'DateTime', 'week', 'Date', 'PTE','weekday'], \\\n",
    "                axis=1)\n",
    "    return X, y                                                                        "
   ]
  },
  {
   "cell_type": "code",
   "execution_count": 17,
   "metadata": {},
   "outputs": [],
   "source": [
    "# def regression_feat_pipeline(lag_dict, df):\n",
    "#     df = make_date_feature(df)\n",
    "#     # hot-encoding weekday and pte\n",
    "#     df = dummy_feat(df)\n",
    "    \n",
    "#     # lag feat\n",
    "#     for lag_column, lag_value in lag_dict.items():\n",
    "#         lag_feat = make_lag_feat(lag_column, lag_value, df)\n",
    "#         df = pd.concat([df, lag_feat], axis=1)\n",
    "\n",
    "#     # standardize\n",
    "#     df = standardize_feat(df)\n",
    "    \n",
    "#     # select x,y\n",
    "#     y = df[['DA>FEED', 'DA>TAKE', 'take_from_system_price', 'feed_into_system_price']]\n",
    "#     X = df.drop(['DA>FEED', 'DA>TAKE', 'take_from_system_price', 'feed_into_system_price', \\\n",
    "#                  'DA-price', 'system_purchase_vol', 'system_sell_vol', 'system_absolute_vol', \\\n",
    "#                  'DateTime', 'week', 'Date', 'PTE'], \\\n",
    "#                 axis=1)\n",
    "\n",
    "#     return X, y"
   ]
  },
  {
   "cell_type": "code",
   "execution_count": 18,
   "metadata": {},
   "outputs": [],
   "source": [
    "lag_values = {'yesterday': np.arange(96,96*2),\\\n",
    "             'two_days': np.arange(96, 96*3),\\\n",
    "             'same_time_before': [96, 96*2, 96*3],\\\n",
    "             'around_time_before':[96, 97, 95*2, 96*2, 97*2]}\n",
    "lag_dict = {'take_from_system_price':lag_values['yesterday'],\\\n",
    "           'feed_into_system_price':lag_values['yesterday'],\\\n",
    "           'DA-price':lag_values['around_time_before'],\\\n",
    "           'system_purchase_vol':lag_values['around_time_before'],\\\n",
    "           'system_sell_vol':lag_values['around_time_before'],\\\n",
    "           'system_absolute_vol':lag_values['around_time_before'],\\\n",
    "           'wind_value':lag_values['around_time_before']}"
   ]
  },
  {
   "cell_type": "markdown",
   "metadata": {},
   "source": [
    "## train"
   ]
  },
  {
   "cell_type": "code",
   "execution_count": 24,
   "metadata": {},
   "outputs": [],
   "source": [
    "# X, Y = regression_feat_pipeline(lag_dict, train_df)"
   ]
  },
  {
   "cell_type": "code",
   "execution_count": 23,
   "metadata": {
    "scrolled": false
   },
   "outputs": [
    {
     "name": "stdout",
     "output_type": "stream",
     "text": [
      "Fold:1\n",
      "train:\n",
      "{'MPE': 15.8516, 'MAPE': 105.9107, 'WMAPE': 0.0149}\n",
      "test:\n",
      "{'MPE': -78.9424, 'MAPE': 225.4703, 'WMAPE': 0.0212}\n",
      "takes:0.37 min\n",
      "\n",
      "Fold:2\n",
      "train:\n",
      "{'MPE': -14.8722, 'MAPE': 140.6368, 'WMAPE': 0.0079}\n",
      "test:\n",
      "{'MPE': -inf, 'MAPE': inf, 'WMAPE': 0.0122}\n",
      "takes:0.47 min\n",
      "\n",
      "Fold:3\n",
      "train:\n",
      "{'MPE': -inf, 'MAPE': inf, 'WMAPE': 0.0046}\n",
      "test:\n",
      "{'MPE': 24.7906, 'MAPE': 90.8667, 'WMAPE': 0.0142}\n",
      "takes:0.55 min\n",
      "\n",
      "Fold:4\n",
      "train:\n",
      "{'MPE': -inf, 'MAPE': inf, 'WMAPE': 0.0035}\n",
      "test:\n",
      "{'MPE': -inf, 'MAPE': inf, 'WMAPE': 0.0131}\n",
      "takes:0.66 min\n",
      "\n",
      "Fold:5\n",
      "train:\n",
      "{'MPE': -inf, 'MAPE': inf, 'WMAPE': 0.0028}\n",
      "test:\n",
      "{'MPE': 4.4948, 'MAPE': 73.0832, 'WMAPE': 0.0102}\n",
      "takes:0.74 min\n",
      "\n"
     ]
    }
   ],
   "source": [
    "out1,feat_cols = cross_validation('take_from_system_price',XGBRegressor,\\\n",
    "                                  lag_dict,train_df, isRegression = True) "
   ]
  },
  {
   "cell_type": "markdown",
   "metadata": {},
   "source": [
    "## feat importance"
   ]
  },
  {
   "cell_type": "code",
   "execution_count": 25,
   "metadata": {},
   "outputs": [
    {
     "data": {
      "text/html": [
       "<div>\n",
       "<style scoped>\n",
       "    .dataframe tbody tr th:only-of-type {\n",
       "        vertical-align: middle;\n",
       "    }\n",
       "\n",
       "    .dataframe tbody tr th {\n",
       "        vertical-align: top;\n",
       "    }\n",
       "\n",
       "    .dataframe thead th {\n",
       "        text-align: right;\n",
       "    }\n",
       "</style>\n",
       "<table border=\"1\" class=\"dataframe\">\n",
       "  <thead>\n",
       "    <tr style=\"text-align: right;\">\n",
       "      <th></th>\n",
       "      <th>importances</th>\n",
       "      <th>features</th>\n",
       "    </tr>\n",
       "  </thead>\n",
       "  <tbody>\n",
       "    <tr>\n",
       "      <th>309</th>\n",
       "      <td>0.013514</td>\n",
       "      <td>DA-price_96</td>\n",
       "    </tr>\n",
       "    <tr>\n",
       "      <th>105</th>\n",
       "      <td>0.013514</td>\n",
       "      <td>PTE_85</td>\n",
       "    </tr>\n",
       "    <tr>\n",
       "      <th>12</th>\n",
       "      <td>0.013514</td>\n",
       "      <td>sin_PTE</td>\n",
       "    </tr>\n",
       "    <tr>\n",
       "      <th>9</th>\n",
       "      <td>0.015015</td>\n",
       "      <td>cos_month</td>\n",
       "    </tr>\n",
       "    <tr>\n",
       "      <th>320</th>\n",
       "      <td>0.015015</td>\n",
       "      <td>system_sell_vol_97</td>\n",
       "    </tr>\n",
       "    <tr>\n",
       "      <th>323</th>\n",
       "      <td>0.015015</td>\n",
       "      <td>system_sell_vol_194</td>\n",
       "    </tr>\n",
       "    <tr>\n",
       "      <th>321</th>\n",
       "      <td>0.016517</td>\n",
       "      <td>system_sell_vol_190</td>\n",
       "    </tr>\n",
       "    <tr>\n",
       "      <th>5</th>\n",
       "      <td>0.016517</td>\n",
       "      <td>wind_minvalue</td>\n",
       "    </tr>\n",
       "    <tr>\n",
       "      <th>10</th>\n",
       "      <td>0.018018</td>\n",
       "      <td>sin_day</td>\n",
       "    </tr>\n",
       "    <tr>\n",
       "      <th>4</th>\n",
       "      <td>0.018018</td>\n",
       "      <td>wind_maxvalue</td>\n",
       "    </tr>\n",
       "    <tr>\n",
       "      <th>113</th>\n",
       "      <td>0.019520</td>\n",
       "      <td>PTE_93</td>\n",
       "    </tr>\n",
       "    <tr>\n",
       "      <th>310</th>\n",
       "      <td>0.021021</td>\n",
       "      <td>DA-price_97</td>\n",
       "    </tr>\n",
       "    <tr>\n",
       "      <th>52</th>\n",
       "      <td>0.022523</td>\n",
       "      <td>PTE_32</td>\n",
       "    </tr>\n",
       "    <tr>\n",
       "      <th>21</th>\n",
       "      <td>0.022523</td>\n",
       "      <td>PTE_1</td>\n",
       "    </tr>\n",
       "    <tr>\n",
       "      <th>322</th>\n",
       "      <td>0.025526</td>\n",
       "      <td>system_sell_vol_192</td>\n",
       "    </tr>\n",
       "    <tr>\n",
       "      <th>311</th>\n",
       "      <td>0.025526</td>\n",
       "      <td>DA-price_190</td>\n",
       "    </tr>\n",
       "    <tr>\n",
       "      <th>117</th>\n",
       "      <td>0.027027</td>\n",
       "      <td>take_from_system_price_96</td>\n",
       "    </tr>\n",
       "    <tr>\n",
       "      <th>13</th>\n",
       "      <td>0.028529</td>\n",
       "      <td>cos_PTE</td>\n",
       "    </tr>\n",
       "    <tr>\n",
       "      <th>8</th>\n",
       "      <td>0.028529</td>\n",
       "      <td>sin_month</td>\n",
       "    </tr>\n",
       "    <tr>\n",
       "      <th>6</th>\n",
       "      <td>0.033033</td>\n",
       "      <td>sin_weekday</td>\n",
       "    </tr>\n",
       "  </tbody>\n",
       "</table>\n",
       "</div>"
      ],
      "text/plain": [
       "     importances                   features\n",
       "309     0.013514                DA-price_96\n",
       "105     0.013514                     PTE_85\n",
       "12      0.013514                    sin_PTE\n",
       "9       0.015015                  cos_month\n",
       "320     0.015015         system_sell_vol_97\n",
       "323     0.015015        system_sell_vol_194\n",
       "321     0.016517        system_sell_vol_190\n",
       "5       0.016517              wind_minvalue\n",
       "10      0.018018                    sin_day\n",
       "4       0.018018              wind_maxvalue\n",
       "113     0.019520                     PTE_93\n",
       "310     0.021021                DA-price_97\n",
       "52      0.022523                     PTE_32\n",
       "21      0.022523                      PTE_1\n",
       "322     0.025526        system_sell_vol_192\n",
       "311     0.025526               DA-price_190\n",
       "117     0.027027  take_from_system_price_96\n",
       "13      0.028529                    cos_PTE\n",
       "8       0.028529                  sin_month\n",
       "6       0.033033                sin_weekday"
      ]
     },
     "execution_count": 25,
     "metadata": {},
     "output_type": "execute_result"
    }
   ],
   "source": [
    "model_error = out1['test_WMAPE']\n",
    "best_model = out1['models'][model_error.index(min(model_error))]\n",
    "\n",
    "plot_feature_importance(best_model, feat_cols)[-20:]"
   ]
  },
  {
   "cell_type": "markdown",
   "metadata": {},
   "source": [
    "## test"
   ]
  },
  {
   "cell_type": "code",
   "execution_count": 26,
   "metadata": {},
   "outputs": [],
   "source": [
    "test_x, test_y = regression_feat_pipeline(lag_dict, test_df)\n",
    "test_true = test_y['take_from_system_price']\n",
    "test_pred = best_model.predict(test_x)\n",
    "test_pred = [round(p,2) for p in test_pred]"
   ]
  },
  {
   "cell_type": "code",
   "execution_count": 27,
   "metadata": {},
   "outputs": [
    {
     "data": {
      "text/plain": [
       "{'MPE': 68.457, 'MAPE': 118.587, 'WMAPE': 0.0058}"
      ]
     },
     "execution_count": 27,
     "metadata": {},
     "output_type": "execute_result"
    }
   ],
   "source": [
    "metrics = Evaluator(test_pred, test_true).regression_metrics()\n",
    "metrics"
   ]
  },
  {
   "cell_type": "code",
   "execution_count": 28,
   "metadata": {},
   "outputs": [
    {
     "data": {
      "image/png": "[encoded data removed]",
      "text/plain": [
       "<Figure size 432x288 with 1 Axes>"
      ]
     },
     "metadata": {},
     "output_type": "display_data"
    }
   ],
   "source": [
    "_ = plot_predictions( test_pred[-96:], test_true[-96:] )"
   ]
  },
  {
   "cell_type": "code",
   "execution_count": 29,
   "metadata": {},
   "outputs": [],
   "source": [
    "save_result_to_file(data_folder_path+'/results/regression_wmape/', metrics['WMAPE'], lag_dict)"
   ]
  },
  {
   "cell_type": "markdown",
   "metadata": {},
   "source": [
    "# DA > TAKE"
   ]
  },
  {
   "cell_type": "markdown",
   "metadata": {},
   "source": [
    "## feat pipeline"
   ]
  },
  {
   "cell_type": "code",
   "execution_count": 4,
   "metadata": {},
   "outputs": [],
   "source": [
    "lag_values2 = {'yesterday': np.arange(96,96*2),\\\n",
    "             'two_days': np.arange(96, 96*3),\\\n",
    "             'same_time_before': [96, 96*2, 96*3],\\\n",
    "             'around_time_before':[96, 97, 95*2, 96*2, 97*2]}\n",
    "lag_dict2 = {'take_from_system_price':lag_values2['yesterday'],\\\n",
    "           'feed_into_system_price':lag_values2['yesterday'],\\\n",
    "           'DA-price':lag_values2['around_time_before'],\\\n",
    "           'system_purchase_vol':lag_values2['around_time_before'],\\\n",
    "           'system_sell_vol':lag_values2['around_time_before'],\\\n",
    "           'system_absolute_vol':lag_values2['around_time_before'],\\\n",
    "           'wind_value':lag_values2['around_time_before']}"
   ]
  },
  {
   "cell_type": "code",
   "execution_count": 5,
   "metadata": {},
   "outputs": [],
   "source": [
    "def classification_feat_pipeline(lag_dict, df):\n",
    "    df = make_date_feature(df)\n",
    "    # hot-encoding weekday and pte    \n",
    "    dummy_date = pd.get_dummies(df['weekday'], prefix='weekday')\n",
    "    dummy_PTE = pd.get_dummies(df['PTE'], prefix = 'PTE')\n",
    "    df = pd.concat([df, dummy_date, dummy_PTE], axis = 1)\n",
    "    df.drop(['weekday'], axis=1)\n",
    "\n",
    "    # lag feat\n",
    "    for lag_column, lag_value in lag_dict.items():\n",
    "        lag_feat = make_lag_feat(lag_column, lag_value, df)\n",
    "        df = pd.concat([df, lag_feat], axis=1)\n",
    "    \n",
    "   # standardize\n",
    "    clasy_cols = ['DA>FEED', 'DA>TAKE', 'Date', 'DateTime','day', 'month','PTE','weekday',\n",
    "                        'week', 'sin_weekday', 'sin_month', 'sin_day', 'sin_PTE',\n",
    "                        'take_from_system_price', 'feed_into_system_price']\n",
    "    clasy_cols.extend(dummy_date.columns)\n",
    "    clasy_cols.extend(dummy_PTE.columns)\n",
    "\n",
    "    df= standardize_feat(df, clasy_cols)\n",
    "    \n",
    "    # select x,y\n",
    "    y = df[['DA>FEED', 'DA>TAKE', 'take_from_system_price', 'feed_into_system_price']]    \n",
    "    X = df.drop(['DA>FEED', 'DA>TAKE', 'take_from_system_price', 'feed_into_system_price',\\\n",
    "                 'DA-price', 'system_purchase_vol', 'system_sell_vol', 'system_absolute_vol',\\\n",
    "                 'DateTime', 'week', 'Date', 'PTE','weekday'], \\\n",
    "                axis=1)\n",
    "    return X, y"
   ]
  },
  {
   "cell_type": "markdown",
   "metadata": {},
   "source": [
    "## train"
   ]
  },
  {
   "cell_type": "code",
   "execution_count": 6,
   "metadata": {},
   "outputs": [
    {
     "name": "stdout",
     "output_type": "stream",
     "text": [
      "Fold:1\n",
      "train:\n",
      "{'AUC': '0.9284', 'Accuracy': 75.4994}\n",
      "test:\n",
      "{'AUC': '0.6097', 'Accuracy': 72.1294}\n",
      "takes:0.43 min\n",
      "\n",
      "Fold:2\n",
      "train:\n",
      "{'AUC': '0.8524', 'Accuracy': 75.2692}\n",
      "test:\n",
      "{'AUC': '0.6027', 'Accuracy': 71.2151}\n",
      "takes:0.52 min\n",
      "\n",
      "Fold:3\n",
      "train:\n",
      "{'AUC': '0.8106', 'Accuracy': 73.1946}\n",
      "test:\n",
      "{'AUC': '0.6237', 'Accuracy': 69.2286}\n",
      "takes:0.62 min\n",
      "\n",
      "Fold:4\n",
      "train:\n",
      "{'AUC': '0.7863', 'Accuracy': 71.6706}\n",
      "test:\n",
      "{'AUC': '0.6572', 'Accuracy': 67.6464}\n",
      "takes:0.75 min\n",
      "\n",
      "Fold:5\n",
      "train:\n",
      "{'AUC': '0.7689', 'Accuracy': 70.41}\n",
      "test:\n",
      "{'AUC': '0.6747', 'Accuracy': 64.1109}\n",
      "takes:0.84 min\n",
      "\n"
     ]
    }
   ],
   "source": [
    "out2,feat_cols2 = cross_validation('DA>TAKE',XGBClassifier,\\\n",
    "                                  lag_dict2,train_df, isRegression = False,\\\n",
    "                                   n_folds = 5) "
   ]
  },
  {
   "cell_type": "markdown",
   "metadata": {},
   "source": [
    "## feat importance"
   ]
  },
  {
   "cell_type": "code",
   "execution_count": 7,
   "metadata": {},
   "outputs": [
    {
     "data": {
      "text/html": [
       "<div>\n",
       "<style scoped>\n",
       "    .dataframe tbody tr th:only-of-type {\n",
       "        vertical-align: middle;\n",
       "    }\n",
       "\n",
       "    .dataframe tbody tr th {\n",
       "        vertical-align: top;\n",
       "    }\n",
       "\n",
       "    .dataframe thead th {\n",
       "        text-align: right;\n",
       "    }\n",
       "</style>\n",
       "<table border=\"1\" class=\"dataframe\">\n",
       "  <thead>\n",
       "    <tr style=\"text-align: right;\">\n",
       "      <th></th>\n",
       "      <th>importances</th>\n",
       "      <th>features</th>\n",
       "    </tr>\n",
       "  </thead>\n",
       "  <tbody>\n",
       "    <tr>\n",
       "      <th>13</th>\n",
       "      <td>0.018625</td>\n",
       "      <td>cos_PTE</td>\n",
       "    </tr>\n",
       "    <tr>\n",
       "      <th>5</th>\n",
       "      <td>0.018625</td>\n",
       "      <td>wind_minvalue</td>\n",
       "    </tr>\n",
       "    <tr>\n",
       "      <th>113</th>\n",
       "      <td>0.018625</td>\n",
       "      <td>PTE_93</td>\n",
       "    </tr>\n",
       "    <tr>\n",
       "      <th>10</th>\n",
       "      <td>0.020057</td>\n",
       "      <td>sin_day</td>\n",
       "    </tr>\n",
       "    <tr>\n",
       "      <th>322</th>\n",
       "      <td>0.025788</td>\n",
       "      <td>system_sell_vol_192</td>\n",
       "    </tr>\n",
       "    <tr>\n",
       "      <th>8</th>\n",
       "      <td>0.027221</td>\n",
       "      <td>sin_month</td>\n",
       "    </tr>\n",
       "    <tr>\n",
       "      <th>11</th>\n",
       "      <td>0.027221</td>\n",
       "      <td>cos_day</td>\n",
       "    </tr>\n",
       "    <tr>\n",
       "      <th>309</th>\n",
       "      <td>0.032951</td>\n",
       "      <td>DA-price_96</td>\n",
       "    </tr>\n",
       "    <tr>\n",
       "      <th>117</th>\n",
       "      <td>0.034384</td>\n",
       "      <td>take_from_system_price_96</td>\n",
       "    </tr>\n",
       "    <tr>\n",
       "      <th>12</th>\n",
       "      <td>0.041547</td>\n",
       "      <td>sin_PTE</td>\n",
       "    </tr>\n",
       "  </tbody>\n",
       "</table>\n",
       "</div>"
      ],
      "text/plain": [
       "     importances                   features\n",
       "13      0.018625                    cos_PTE\n",
       "5       0.018625              wind_minvalue\n",
       "113     0.018625                     PTE_93\n",
       "10      0.020057                    sin_day\n",
       "322     0.025788        system_sell_vol_192\n",
       "8       0.027221                  sin_month\n",
       "11      0.027221                    cos_day\n",
       "309     0.032951                DA-price_96\n",
       "117     0.034384  take_from_system_price_96\n",
       "12      0.041547                    sin_PTE"
      ]
     },
     "execution_count": 7,
     "metadata": {},
     "output_type": "execute_result"
    }
   ],
   "source": [
    "model_auc = out2['auc']\n",
    "best_model2 = out2['models'][model_auc.index(max(model_auc))]\n",
    "\n",
    "plot_feature_importance(best_model2, feat_cols2)[-10:]"
   ]
  },
  {
   "cell_type": "markdown",
   "metadata": {},
   "source": [
    "## test"
   ]
  },
  {
   "cell_type": "code",
   "execution_count": 17,
   "metadata": {},
   "outputs": [
    {
     "data": {
      "text/plain": [
       "{'AUC': '0.5062', 'Accuracy': 78.2641}"
      ]
     },
     "execution_count": 17,
     "metadata": {},
     "output_type": "execute_result"
    }
   ],
   "source": [
    "test_x, test_y = classification_feat_pipeline(lag_dict2, test_df)\n",
    "test_y = test_y['DA>TAKE']\n",
    "test_proba = best_model2.predict_proba(test_x)[:,1]\n",
    "test_pred = best_model2.predict(test_x)\n",
    "\n",
    "metrics2 = Evaluator(test_pred, test_y).classification_metrics()\n",
    "metrics2"
   ]
  },
  {
   "cell_type": "code",
   "execution_count": 16,
   "metadata": {},
   "outputs": [
    {
     "data": {
      "text/plain": [
       "0.7813906953476738"
      ]
     },
     "execution_count": 16,
     "metadata": {},
     "output_type": "execute_result"
    }
   ],
   "source": [
    "len(test_y[test_y == 1])/len(test_y)"
   ]
  },
  {
   "cell_type": "code",
   "execution_count": 35,
   "metadata": {},
   "outputs": [
    {
     "data": {
      "image/png": "[encoded data removed]",
      "text/plain": [
       "<Figure size 432x288 with 1 Axes>"
      ]
     },
     "metadata": {},
     "output_type": "display_data"
    }
   ],
   "source": [
    "_ = plot_predictions( test_proba[-96:], test_y[-96:] )"
   ]
  },
  {
   "cell_type": "code",
   "execution_count": 39,
   "metadata": {},
   "outputs": [],
   "source": [
    "save_result_to_file(data_folder_path+'/results/classification_acc/', metrics2['Accuracy'], lag_dict)"
   ]
  },
  {
   "cell_type": "code",
   "execution_count": null,
   "metadata": {},
   "outputs": [],
   "source": []
  }
 ],
 "metadata": {
  "kernelspec": {
   "display_name": "Python 3",
   "language": "python",
   "name": "python3"
  },
  "language_info": {
   "codemirror_mode": {
    "name": "ipython",
    "version": 3
   },
   "file_extension": ".py",
   "mimetype": "text/x-python",
   "name": "python",
   "nbconvert_exporter": "python",
   "pygments_lexer": "ipython3",
   "version": "3.6.5"
  },
  "toc": {
   "base_numbering": 1,
   "nav_menu": {},
   "number_sections": true,
   "sideBar": true,
   "skip_h1_title": false,
   "title_cell": "Table of Contents",
   "title_sidebar": "Contents",
   "toc_cell": false,
   "toc_position": {
    "height": "calc(100% - 180px)",
    "left": "10px",
    "top": "150px",
    "width": "165px"
   },
   "toc_section_display": true,
   "toc_window_display": true
  }
 },
 "nbformat": 4,
 "nbformat_minor": 2
}
