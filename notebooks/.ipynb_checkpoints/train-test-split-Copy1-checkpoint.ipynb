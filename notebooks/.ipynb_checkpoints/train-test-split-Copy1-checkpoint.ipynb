{
 "cells": [
  {
   "cell_type": "markdown",
   "metadata": {},
   "source": [
    "# data cleaning"
   ]
  },
  {
   "cell_type": "code",
   "execution_count": 16,
   "metadata": {
    "scrolled": true
   },
   "outputs": [],
   "source": [
    "import sys \n",
    "sys.path.append('C:\\\\Users\\\\Nuo.Chen\\\\PycharmProjects\\\\Imbalance_price_forecast')\n",
    "from utils.import_packages import *\n",
    "from data_gathering.prepare_data import *"
   ]
  },
  {
   "cell_type": "code",
   "execution_count": 17,
   "metadata": {},
   "outputs": [],
   "source": [
    "day_ahead_df = pd.read_csv(data_folder_path + '/NLAuctionPrice.csv')\n",
    "system_imbalance_df = pd.read_csv(data_folder_path + '/imbalance_data_16to18.csv')"
   ]
  },
  {
   "cell_type": "code",
   "execution_count": 19,
   "metadata": {},
   "outputs": [
    {
     "data": {
      "text/plain": [
       "Index(['Date', 'PTE', 'period_from', 'period_until', 'Immediately',\n",
       "       'less_than_15_min', '16_30_min', '31_120_min', '121_480_min',\n",
       "       'more_than_480_min', 'condition_fuel_contract', 'already_contracted'],\n",
       "      dtype='object')"
      ]
     },
     "execution_count": 19,
     "metadata": {},
     "output_type": "execute_result"
    }
   ],
   "source": [
    "system_imbalance_df.columns"
   ]
  },
  {
   "cell_type": "code",
   "execution_count": 18,
   "metadata": {
    "scrolled": true
   },
   "outputs": [
    {
     "ename": "KeyError",
     "evalue": "\"['week' 'take_from_system_kWhPTE' 'feed_into_system_EURMwh'\\n 'imbalance_kWhPTE'] not in index\"",
     "output_type": "error",
     "traceback": [
      "\u001b[1;31m---------------------------------------------------------------------------\u001b[0m",
      "\u001b[1;31mKeyError\u001b[0m                                  Traceback (most recent call last)",
      "\u001b[1;32m<ipython-input-18-746d1b6437c6>\u001b[0m in \u001b[0;36m<module>\u001b[1;34m()\u001b[0m\n\u001b[1;32m----> 1\u001b[1;33m \u001b[0msystem_df\u001b[0m \u001b[1;33m=\u001b[0m \u001b[0msystem_imbalance_df\u001b[0m\u001b[1;33m[\u001b[0m\u001b[1;33m[\u001b[0m\u001b[1;34m'week'\u001b[0m\u001b[1;33m,\u001b[0m \u001b[1;34m'Date'\u001b[0m\u001b[1;33m,\u001b[0m \u001b[1;34m'PTE'\u001b[0m\u001b[1;33m,\u001b[0m \u001b[1;34m'take_from_system_kWhPTE'\u001b[0m\u001b[1;33m,\u001b[0m                                  \u001b[1;34m'feed_into_system_EURMwh'\u001b[0m\u001b[1;33m,\u001b[0m\u001b[1;34m'imbalance_kWhPTE'\u001b[0m\u001b[1;33m]\u001b[0m\u001b[1;33m]\u001b[0m\u001b[1;33m\u001b[0m\u001b[0m\n\u001b[0m",
      "\u001b[1;32mc:\\apps\\Program Files\\Continuum\\Anaconda3\\lib\\site-packages\\pandas\\core\\frame.py\u001b[0m in \u001b[0;36m__getitem__\u001b[1;34m(self, key)\u001b[0m\n\u001b[0;32m   2677\u001b[0m         \u001b[1;32mif\u001b[0m \u001b[0misinstance\u001b[0m\u001b[1;33m(\u001b[0m\u001b[0mkey\u001b[0m\u001b[1;33m,\u001b[0m \u001b[1;33m(\u001b[0m\u001b[0mSeries\u001b[0m\u001b[1;33m,\u001b[0m \u001b[0mnp\u001b[0m\u001b[1;33m.\u001b[0m\u001b[0mndarray\u001b[0m\u001b[1;33m,\u001b[0m \u001b[0mIndex\u001b[0m\u001b[1;33m,\u001b[0m \u001b[0mlist\u001b[0m\u001b[1;33m)\u001b[0m\u001b[1;33m)\u001b[0m\u001b[1;33m:\u001b[0m\u001b[1;33m\u001b[0m\u001b[0m\n\u001b[0;32m   2678\u001b[0m             \u001b[1;31m# either boolean or fancy integer index\u001b[0m\u001b[1;33m\u001b[0m\u001b[1;33m\u001b[0m\u001b[0m\n\u001b[1;32m-> 2679\u001b[1;33m             \u001b[1;32mreturn\u001b[0m \u001b[0mself\u001b[0m\u001b[1;33m.\u001b[0m\u001b[0m_getitem_array\u001b[0m\u001b[1;33m(\u001b[0m\u001b[0mkey\u001b[0m\u001b[1;33m)\u001b[0m\u001b[1;33m\u001b[0m\u001b[0m\n\u001b[0m\u001b[0;32m   2680\u001b[0m         \u001b[1;32melif\u001b[0m \u001b[0misinstance\u001b[0m\u001b[1;33m(\u001b[0m\u001b[0mkey\u001b[0m\u001b[1;33m,\u001b[0m \u001b[0mDataFrame\u001b[0m\u001b[1;33m)\u001b[0m\u001b[1;33m:\u001b[0m\u001b[1;33m\u001b[0m\u001b[0m\n\u001b[0;32m   2681\u001b[0m             \u001b[1;32mreturn\u001b[0m \u001b[0mself\u001b[0m\u001b[1;33m.\u001b[0m\u001b[0m_getitem_frame\u001b[0m\u001b[1;33m(\u001b[0m\u001b[0mkey\u001b[0m\u001b[1;33m)\u001b[0m\u001b[1;33m\u001b[0m\u001b[0m\n",
      "\u001b[1;32mc:\\apps\\Program Files\\Continuum\\Anaconda3\\lib\\site-packages\\pandas\\core\\frame.py\u001b[0m in \u001b[0;36m_getitem_array\u001b[1;34m(self, key)\u001b[0m\n\u001b[0;32m   2721\u001b[0m             \u001b[1;32mreturn\u001b[0m \u001b[0mself\u001b[0m\u001b[1;33m.\u001b[0m\u001b[0m_take\u001b[0m\u001b[1;33m(\u001b[0m\u001b[0mindexer\u001b[0m\u001b[1;33m,\u001b[0m \u001b[0maxis\u001b[0m\u001b[1;33m=\u001b[0m\u001b[1;36m0\u001b[0m\u001b[1;33m)\u001b[0m\u001b[1;33m\u001b[0m\u001b[0m\n\u001b[0;32m   2722\u001b[0m         \u001b[1;32melse\u001b[0m\u001b[1;33m:\u001b[0m\u001b[1;33m\u001b[0m\u001b[0m\n\u001b[1;32m-> 2723\u001b[1;33m             \u001b[0mindexer\u001b[0m \u001b[1;33m=\u001b[0m \u001b[0mself\u001b[0m\u001b[1;33m.\u001b[0m\u001b[0mloc\u001b[0m\u001b[1;33m.\u001b[0m\u001b[0m_convert_to_indexer\u001b[0m\u001b[1;33m(\u001b[0m\u001b[0mkey\u001b[0m\u001b[1;33m,\u001b[0m \u001b[0maxis\u001b[0m\u001b[1;33m=\u001b[0m\u001b[1;36m1\u001b[0m\u001b[1;33m)\u001b[0m\u001b[1;33m\u001b[0m\u001b[0m\n\u001b[0m\u001b[0;32m   2724\u001b[0m             \u001b[1;32mreturn\u001b[0m \u001b[0mself\u001b[0m\u001b[1;33m.\u001b[0m\u001b[0m_take\u001b[0m\u001b[1;33m(\u001b[0m\u001b[0mindexer\u001b[0m\u001b[1;33m,\u001b[0m \u001b[0maxis\u001b[0m\u001b[1;33m=\u001b[0m\u001b[1;36m1\u001b[0m\u001b[1;33m)\u001b[0m\u001b[1;33m\u001b[0m\u001b[0m\n\u001b[0;32m   2725\u001b[0m \u001b[1;33m\u001b[0m\u001b[0m\n",
      "\u001b[1;32mc:\\apps\\Program Files\\Continuum\\Anaconda3\\lib\\site-packages\\pandas\\core\\indexing.py\u001b[0m in \u001b[0;36m_convert_to_indexer\u001b[1;34m(self, obj, axis, is_setter)\u001b[0m\n\u001b[0;32m   1325\u001b[0m                 \u001b[1;32mif\u001b[0m \u001b[0mmask\u001b[0m\u001b[1;33m.\u001b[0m\u001b[0many\u001b[0m\u001b[1;33m(\u001b[0m\u001b[1;33m)\u001b[0m\u001b[1;33m:\u001b[0m\u001b[1;33m\u001b[0m\u001b[0m\n\u001b[0;32m   1326\u001b[0m                     raise KeyError('{mask} not in index'\n\u001b[1;32m-> 1327\u001b[1;33m                                    .format(mask=objarr[mask]))\n\u001b[0m\u001b[0;32m   1328\u001b[0m \u001b[1;33m\u001b[0m\u001b[0m\n\u001b[0;32m   1329\u001b[0m                 \u001b[1;32mreturn\u001b[0m \u001b[0mcom\u001b[0m\u001b[1;33m.\u001b[0m\u001b[0m_values_from_object\u001b[0m\u001b[1;33m(\u001b[0m\u001b[0mindexer\u001b[0m\u001b[1;33m)\u001b[0m\u001b[1;33m\u001b[0m\u001b[0m\n",
      "\u001b[1;31mKeyError\u001b[0m: \"['week' 'take_from_system_kWhPTE' 'feed_into_system_EURMwh'\\n 'imbalance_kWhPTE'] not in index\""
     ]
    }
   ],
   "source": [
    "system_df = system_imbalance_df[['week', 'Date', 'PTE', 'take_from_system_kWhPTE', \\\n",
    "                                 'feed_into_system_EURMwh','imbalance_kWhPTE']]"
   ]
  },
  {
   "cell_type": "code",
   "execution_count": 2,
   "metadata": {},
   "outputs": [
    {
     "name": "stdout",
     "output_type": "stream",
     "text": [
      "saving system data to file\n"
     ]
    }
   ],
   "source": [
    "combined_df = pd.merge(system_df, day_ahead_df, how = 'inner',\\\n",
    "                      on = 'PTE', left_on = '')\n",
    "print('saving system data to file')\n",
    "system_df.to_csv(data_folder_path + '/clean_data.csv', index = False)"
   ]
  },
  {
   "cell_type": "code",
   "execution_count": 3,
   "metadata": {},
   "outputs": [
    {
     "data": {
      "text/plain": [
       "Index(['week', 'Date', 'PTE', 'take_from_system_kWhPTE',\n",
       "       'feed_into_system_EURMwh', 'Regulation state', 'purchase_kWhPTE',\n",
       "       'sell_kWhPTE', 'absolute_kWhPTE', 'imbalance_kWhPTE'],\n",
       "      dtype='object')"
      ]
     },
     "execution_count": 3,
     "metadata": {},
     "output_type": "execute_result"
    }
   ],
   "source": [
    "raw = pd.read_csv(data_folder_path + '/clean_data.csv')\n",
    "raw.columns"
   ]
  },
  {
   "cell_type": "markdown",
   "metadata": {},
   "source": [
    "## train-test split"
   ]
  },
  {
   "cell_type": "code",
   "execution_count": 4,
   "metadata": {},
   "outputs": [],
   "source": [
    "from features.features import *"
   ]
  },
  {
   "cell_type": "code",
   "execution_count": 5,
   "metadata": {},
   "outputs": [],
   "source": [
    "train,test = data_split_by_date(raw, train_size = 0.7)"
   ]
  },
  {
   "cell_type": "code",
   "execution_count": 6,
   "metadata": {},
   "outputs": [
    {
     "data": {
      "text/plain": [
       "(2.329000474833808, 1.9232876712328768)"
      ]
     },
     "execution_count": 6,
     "metadata": {},
     "output_type": "execute_result"
    }
   ],
   "source": [
    "train_len = len(train)\n",
    "# validate_len = len(validate)\n",
    "test_len = len(test)\n",
    "\n",
    "(train_len/test_len), test_len/96/365"
   ]
  },
  {
   "cell_type": "code",
   "execution_count": 7,
   "metadata": {},
   "outputs": [],
   "source": [
    "train.to_csv(data_folder_path + '/train.csv', index=False)\n",
    "test.to_csv(data_folder_path + '/test.csv', index = False)"
   ]
  },
  {
   "cell_type": "code",
   "execution_count": 8,
   "metadata": {},
   "outputs": [
    {
     "data": {
      "text/html": [
       "<div>\n",
       "<style scoped>\n",
       "    .dataframe tbody tr th:only-of-type {\n",
       "        vertical-align: middle;\n",
       "    }\n",
       "\n",
       "    .dataframe tbody tr th {\n",
       "        vertical-align: top;\n",
       "    }\n",
       "\n",
       "    .dataframe thead th {\n",
       "        text-align: right;\n",
       "    }\n",
       "</style>\n",
       "<table border=\"1\" class=\"dataframe\">\n",
       "  <thead>\n",
       "    <tr style=\"text-align: right;\">\n",
       "      <th></th>\n",
       "      <th>week</th>\n",
       "      <th>Date</th>\n",
       "      <th>PTE</th>\n",
       "      <th>take_from_system_kWhPTE</th>\n",
       "      <th>feed_into_system_EURMwh</th>\n",
       "      <th>Regulation state</th>\n",
       "      <th>purchase_kWhPTE</th>\n",
       "      <th>sell_kWhPTE</th>\n",
       "      <th>absolute_kWhPTE</th>\n",
       "      <th>imbalance_kWhPTE</th>\n",
       "    </tr>\n",
       "  </thead>\n",
       "  <tbody>\n",
       "    <tr>\n",
       "      <th>156951</th>\n",
       "      <td>25</td>\n",
       "      <td>06/22/2016</td>\n",
       "      <td>92</td>\n",
       "      <td>46.01</td>\n",
       "      <td>46.01</td>\n",
       "      <td>1</td>\n",
       "      <td>-74424</td>\n",
       "      <td>34290</td>\n",
       "      <td>108714</td>\n",
       "      <td>-40134</td>\n",
       "    </tr>\n",
       "    <tr>\n",
       "      <th>156952</th>\n",
       "      <td>25</td>\n",
       "      <td>06/22/2016</td>\n",
       "      <td>93</td>\n",
       "      <td>27.39</td>\n",
       "      <td>27.39</td>\n",
       "      <td>0</td>\n",
       "      <td>-47158</td>\n",
       "      <td>67695</td>\n",
       "      <td>114853</td>\n",
       "      <td>20537</td>\n",
       "    </tr>\n",
       "    <tr>\n",
       "      <th>156953</th>\n",
       "      <td>25</td>\n",
       "      <td>06/22/2016</td>\n",
       "      <td>94</td>\n",
       "      <td>77.55</td>\n",
       "      <td>77.55</td>\n",
       "      <td>1</td>\n",
       "      <td>-59874</td>\n",
       "      <td>20850</td>\n",
       "      <td>80724</td>\n",
       "      <td>-39024</td>\n",
       "    </tr>\n",
       "    <tr>\n",
       "      <th>156954</th>\n",
       "      <td>25</td>\n",
       "      <td>06/22/2016</td>\n",
       "      <td>95</td>\n",
       "      <td>34.99</td>\n",
       "      <td>34.99</td>\n",
       "      <td>1</td>\n",
       "      <td>-26137</td>\n",
       "      <td>34188</td>\n",
       "      <td>60325</td>\n",
       "      <td>8051</td>\n",
       "    </tr>\n",
       "    <tr>\n",
       "      <th>156955</th>\n",
       "      <td>25</td>\n",
       "      <td>06/22/2016</td>\n",
       "      <td>96</td>\n",
       "      <td>27.50</td>\n",
       "      <td>27.50</td>\n",
       "      <td>0</td>\n",
       "      <td>-50999</td>\n",
       "      <td>58677</td>\n",
       "      <td>109676</td>\n",
       "      <td>7678</td>\n",
       "    </tr>\n",
       "  </tbody>\n",
       "</table>\n",
       "</div>"
      ],
      "text/plain": [
       "        week        Date  PTE  take_from_system_kWhPTE  \\\n",
       "156951    25  06/22/2016   92                    46.01   \n",
       "156952    25  06/22/2016   93                    27.39   \n",
       "156953    25  06/22/2016   94                    77.55   \n",
       "156954    25  06/22/2016   95                    34.99   \n",
       "156955    25  06/22/2016   96                    27.50   \n",
       "\n",
       "        feed_into_system_EURMwh  Regulation state  purchase_kWhPTE  \\\n",
       "156951                    46.01                 1           -74424   \n",
       "156952                    27.39                 0           -47158   \n",
       "156953                    77.55                 1           -59874   \n",
       "156954                    34.99                 1           -26137   \n",
       "156955                    27.50                 0           -50999   \n",
       "\n",
       "        sell_kWhPTE  absolute_kWhPTE  imbalance_kWhPTE  \n",
       "156951        34290           108714            -40134  \n",
       "156952        67695           114853             20537  \n",
       "156953        20850            80724            -39024  \n",
       "156954        34188            60325              8051  \n",
       "156955        58677           109676              7678  "
      ]
     },
     "execution_count": 8,
     "metadata": {},
     "output_type": "execute_result"
    }
   ],
   "source": [
    "train.tail()"
   ]
  },
  {
   "cell_type": "code",
   "execution_count": 9,
   "metadata": {},
   "outputs": [
    {
     "data": {
      "text/plain": [
       "week                               25\n",
       "Date                       06/23/2016\n",
       "PTE                                 1\n",
       "take_from_system_kWhPTE         42.62\n",
       "feed_into_system_EURMwh         42.62\n",
       "Regulation state                    1\n",
       "purchase_kWhPTE                -61958\n",
       "sell_kWhPTE                     26298\n",
       "absolute_kWhPTE                 88256\n",
       "imbalance_kWhPTE               -35660\n",
       "Name: 156956, dtype: object"
      ]
     },
     "execution_count": 9,
     "metadata": {},
     "output_type": "execute_result"
    }
   ],
   "source": [
    "test.iloc[0]"
   ]
  },
  {
   "cell_type": "code",
   "execution_count": 10,
   "metadata": {},
   "outputs": [
    {
     "data": {
      "text/plain": [
       "week                               21\n",
       "Date                       05/25/2018\n",
       "PTE                                96\n",
       "take_from_system_kWhPTE         44.89\n",
       "feed_into_system_EURMwh         41.69\n",
       "Regulation state                    2\n",
       "purchase_kWhPTE                -56853\n",
       "sell_kWhPTE                     34288\n",
       "absolute_kWhPTE                 91141\n",
       "imbalance_kWhPTE               -22565\n",
       "Name: 224347, dtype: object"
      ]
     },
     "execution_count": 10,
     "metadata": {},
     "output_type": "execute_result"
    }
   ],
   "source": [
    "test.iloc[-1]"
   ]
  },
  {
   "cell_type": "code",
   "execution_count": null,
   "metadata": {},
   "outputs": [],
   "source": []
  }
 ],
 "metadata": {
  "kernelspec": {
   "display_name": "Python 3",
   "language": "python",
   "name": "python3"
  },
  "language_info": {
   "codemirror_mode": {
    "name": "ipython",
    "version": 3
   },
   "file_extension": ".py",
   "mimetype": "text/x-python",
   "name": "python",
   "nbconvert_exporter": "python",
   "pygments_lexer": "ipython3",
   "version": "3.6.5"
  },
  "toc": {
   "base_numbering": 1,
   "nav_menu": {},
   "number_sections": true,
   "sideBar": true,
   "skip_h1_title": false,
   "title_cell": "Table of Contents",
   "title_sidebar": "Contents",
   "toc_cell": false,
   "toc_position": {},
   "toc_section_display": true,
   "toc_window_display": true
  }
 },
 "nbformat": 4,
 "nbformat_minor": 2
}
