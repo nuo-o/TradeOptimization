{
 "cells": [
  {
   "cell_type": "code",
   "execution_count": 1,
   "metadata": {},
   "outputs": [],
   "source": [
    "import pandas as pd, math, numpy as np\n",
    "import sys \n",
    "sys.path.append('C:\\\\Users\\\\Nuo.Chen\\\\PycharmProjects\\\\Imbalance_price_forecast')\n",
    "from utils.import_packages import *\n",
    "from data_gathering import *\n",
    "from features.features import *"
   ]
  },
  {
   "cell_type": "markdown",
   "metadata": {},
   "source": [
    "# clean power forecast data"
   ]
  },
  {
   "cell_type": "markdown",
   "metadata": {},
   "source": [
    "## clean multiple forecast for the same period"
   ]
  },
  {
   "cell_type": "code",
   "execution_count": null,
   "metadata": {},
   "outputs": [],
   "source": [
    "solar_df = pd.read_excel(weather_folder + '/solar-forecast.xlsx')\n",
    "clean_solar_df = clean_multiple_forecast(solar_df, 'TIMESTAMP_UTC', 'CREATED_TIMESTAMP_UTC')\n",
    "clean_solar_df.to_excel(weather_folder + '/clean-solar-forecast.xlsx')\n",
    "\n",
    "wind_df = pd.read_excel(weather_folder + '/wind-forecast.xlsx')\n",
    "clean_wind_df = clean_multiple_forecast(wind_df, 'TIMESTAMP_UTC', 'CREATED_TIMESTAMP_UTC')\n",
    "clean_wind_df.to_excel(weather_folder + '/clean-wind-forecast.xlsx')"
   ]
  },
  {
   "cell_type": "markdown",
   "metadata": {},
   "source": [
    "## complete the date&time list per PTE for each forecasting data"
   ]
  },
  {
   "cell_type": "code",
   "execution_count": null,
   "metadata": {},
   "outputs": [],
   "source": [
    "empty_time_df = make_date_time_full_list( datetime(2015,9,23),datetime(2018,6,20),interval={'minutes':15})\n",
    "select_forecast_feat = ['DateTime', 'Date', 'PTE', 'value', 'maxvalue', 'minvalue']\n",
    "\n",
    "complete_solar_df = empty_time_df.merge(clean_solar_df, left_on = 'DateTime', right_on = 'TIMESTAMP_UTC', how = 'left')\n",
    "complete_solar_df = complete_solar_df[select_forecast_feat]\n",
    "\n",
    "complete_wind_df = empty_time_df.merge(clean_wind_df, left_on = 'DateTime', right_on = 'TIMESTAMP_UTC', how = 'left')\n",
    "complete_wind_df = complete_wind_df[select_forecast_feat]\n",
    "\n",
    "common_col = ['DateTime', 'Date', 'PTE']\n",
    "complete_solar_df.columns = common_col + ['solar_value', 'solar_maxvalue','solar_minvalue']\n",
    "complete_wind_df.columns = common_col + ['wind_value', 'wind_maxvalue', 'wind_minvalue']\n",
    "\n",
    "complete_solar_df.to_excel(weather_folder + '/compete_solar_df.xlsx', index = False)\n",
    "complete_wind_df.to_excel(weather_folder + '/compete_wind_df.xlsx', index = False)\n"
   ]
  },
  {
   "cell_type": "markdown",
   "metadata": {},
   "source": [
    "## merge soloar and wind "
   ]
  },
  {
   "cell_type": "code",
   "execution_count": null,
   "metadata": {},
   "outputs": [],
   "source": [
    "solar_wind_df = complete_solar_df.merge(complete_wind_df, on=['DateTime', 'Date', 'PTE'], how='inner')\n",
    "solar_wind_df.to_excel(weather_folder + '/complete_solar_wind.xlsx', index = False)"
   ]
  },
  {
   "cell_type": "markdown",
   "metadata": {},
   "source": [
    "## impute"
   ]
  },
  {
   "cell_type": "markdown",
   "metadata": {},
   "source": [
    "impute strategy:\n",
    "1. the forecast is per hour, then evenly shared the power output for the four quarters, including value and max-min value\n",
    "2. dicard data from 2016-12-12 to 2017-12-26\n",
    "3. impute the other missing dates with previous date data"
   ]
  },
  {
   "cell_type": "code",
   "execution_count": null,
   "metadata": {},
   "outputs": [],
   "source": [
    "import time\n",
    "\n",
    "solar_wind_col = ['solar_value', 'solar_maxvalue', 'solar_minvalue', 'wind_value', 'wind_maxvalue', 'wind_minvalue']\n",
    "solar_wind_df = pd.read_excel(weather_folder + '/complete_solar_wind.xlsx')\n",
    "\n",
    "solar_wind_df = solar_wind_df[(solar_wind_df['Date']< datetime(2016,12,12))|(solar_wind_df['Date']> datetime(2017,12,26))]\n",
    "solar_wind_df[ solar_wind_col ]/=4\n",
    "\n",
    "# deleted missing date in 2017 and averaged the hourly data\n",
    "solar_wind_df.to_excel(weather_folder + '/clean_solar_wind_df.xlsx', index = False)"
   ]
  },
  {
   "cell_type": "code",
   "execution_count": null,
   "metadata": {},
   "outputs": [],
   "source": [
    "solar_wind_df = pd.read_excel(weather_folder + '/clean_solar_wind_df.xlsx')\n",
    "solar_wind_col = ['solar_value', 'solar_maxvalue', 'solar_minvalue', 'wind_value', 'wind_maxvalue', 'wind_minvalue']\n",
    "\n",
    "cur_index = 0\n",
    "\n",
    "start = time.time()\n",
    "# invalid_missing_dates = list()\n",
    "\n",
    "while cur_index < len(solar_wind_df):\n",
    "\n",
    "    PTE = solar_wind_df.loc[cur_index]['PTE']\n",
    "    cur_row = solar_wind_df.loc[cur_index][solar_wind_col]\n",
    "    \n",
    "    if PTE % 4 == 1 & cur_row.isnull().any():\n",
    "#         cur_date = solar_wind_df.loc[cur_index]['Date']\n",
    "#         if cur_date.isoweekday() <= 5:\n",
    "#             invalid_missing_dates.append(cur_date)\n",
    "\n",
    "        # impute missing day\n",
    "        last_day_data = solar_wind_df.loc[cur_index-96][solar_wind_col]\n",
    "        impute_data = last_day_data\n",
    "        solar_wind_df.loc[cur_index, solar_wind_col] = impute_data\n",
    "        \n",
    "    elif PTE % 4 ==1:\n",
    "        # impute missing PTE\n",
    "        impute_data = cur_row\n",
    "\n",
    "    else:\n",
    "        raise ValueError('Invalid missing values')\n",
    "    \n",
    "    solar_wind_df.loc[cur_index+1, solar_wind_col] = impute_data\n",
    "    solar_wind_df.loc[cur_index+2, solar_wind_col] = impute_data\n",
    "    solar_wind_df.loc[cur_index+3, solar_wind_col] = impute_data\n",
    "    cur_index += 4\n",
    "\n",
    "    \n",
    "# print('invalid missing dates(not weekend)')\n",
    "# print(set(invalid_missing_dates))\n",
    "\n",
    "end = time.time()\n",
    "\n",
    "print('takes:{} min'.format((end - start)/60))"
   ]
  },
  {
   "cell_type": "code",
   "execution_count": null,
   "metadata": {},
   "outputs": [],
   "source": [
    "solar_wind_df.to_excel(weather_folder + '/imputed_solar_wind.xlsx', index = False)"
   ]
  },
  {
   "cell_type": "markdown",
   "metadata": {},
   "source": [
    "# merge day-ahead price data"
   ]
  },
  {
   "cell_type": "markdown",
   "metadata": {},
   "source": [
    "Note: this column couldn't be used as a feature for imbalance price prediction\n",
    "\n",
    "Data is merged by the delivery date and PTE"
   ]
  },
  {
   "cell_type": "code",
   "execution_count": 2,
   "metadata": {},
   "outputs": [],
   "source": [
    "solar_wind_df = pd.read_excel(weather_folder+'/imputed_solar_wind.xlsx')"
   ]
  },
  {
   "cell_type": "code",
   "execution_count": 12,
   "metadata": {},
   "outputs": [],
   "source": [
    "day_ahead_price_df = pd.read_excel(day_ahead_folder + '/new-DA-price.xlsx')"
   ]
  },
  {
   "cell_type": "code",
   "execution_count": 18,
   "metadata": {},
   "outputs": [
    {
     "data": {
      "text/html": [
       "<div>\n",
       "<style scoped>\n",
       "    .dataframe tbody tr th:only-of-type {\n",
       "        vertical-align: middle;\n",
       "    }\n",
       "\n",
       "    .dataframe tbody tr th {\n",
       "        vertical-align: top;\n",
       "    }\n",
       "\n",
       "    .dataframe thead th {\n",
       "        text-align: right;\n",
       "    }\n",
       "</style>\n",
       "<table border=\"1\" class=\"dataframe\">\n",
       "  <thead>\n",
       "    <tr style=\"text-align: right;\">\n",
       "      <th></th>\n",
       "      <th>Date</th>\n",
       "      <th>DA-price</th>\n",
       "      <th>PTE</th>\n",
       "      <th>DateTime</th>\n",
       "      <th>solar_value</th>\n",
       "      <th>solar_maxvalue</th>\n",
       "      <th>solar_minvalue</th>\n",
       "      <th>wind_value</th>\n",
       "      <th>wind_maxvalue</th>\n",
       "      <th>wind_minvalue</th>\n",
       "    </tr>\n",
       "  </thead>\n",
       "  <tbody>\n",
       "    <tr>\n",
       "      <th>0</th>\n",
       "      <td>2016-01-01</td>\n",
       "      <td>23.86</td>\n",
       "      <td>1</td>\n",
       "      <td>2016-01-01 00:00:00</td>\n",
       "      <td>0.0</td>\n",
       "      <td>0.0</td>\n",
       "      <td>0.0</td>\n",
       "      <td>297.2600</td>\n",
       "      <td>318.175</td>\n",
       "      <td>267.225</td>\n",
       "    </tr>\n",
       "    <tr>\n",
       "      <th>1</th>\n",
       "      <td>2016-01-01</td>\n",
       "      <td>23.86</td>\n",
       "      <td>2</td>\n",
       "      <td>2016-01-01 00:15:00</td>\n",
       "      <td>0.0</td>\n",
       "      <td>0.0</td>\n",
       "      <td>0.0</td>\n",
       "      <td>297.2600</td>\n",
       "      <td>318.175</td>\n",
       "      <td>267.225</td>\n",
       "    </tr>\n",
       "    <tr>\n",
       "      <th>2</th>\n",
       "      <td>2016-01-01</td>\n",
       "      <td>23.86</td>\n",
       "      <td>3</td>\n",
       "      <td>2016-01-01 00:30:00</td>\n",
       "      <td>0.0</td>\n",
       "      <td>0.0</td>\n",
       "      <td>0.0</td>\n",
       "      <td>297.2600</td>\n",
       "      <td>318.175</td>\n",
       "      <td>267.225</td>\n",
       "    </tr>\n",
       "    <tr>\n",
       "      <th>3</th>\n",
       "      <td>2016-01-01</td>\n",
       "      <td>23.86</td>\n",
       "      <td>4</td>\n",
       "      <td>2016-01-01 00:45:00</td>\n",
       "      <td>0.0</td>\n",
       "      <td>0.0</td>\n",
       "      <td>0.0</td>\n",
       "      <td>297.2600</td>\n",
       "      <td>318.175</td>\n",
       "      <td>267.225</td>\n",
       "    </tr>\n",
       "    <tr>\n",
       "      <th>4</th>\n",
       "      <td>2016-01-01</td>\n",
       "      <td>22.39</td>\n",
       "      <td>5</td>\n",
       "      <td>2016-01-01 01:00:00</td>\n",
       "      <td>0.0</td>\n",
       "      <td>0.0</td>\n",
       "      <td>0.0</td>\n",
       "      <td>281.0725</td>\n",
       "      <td>299.825</td>\n",
       "      <td>259.450</td>\n",
       "    </tr>\n",
       "  </tbody>\n",
       "</table>\n",
       "</div>"
      ],
      "text/plain": [
       "        Date  DA-price  PTE            DateTime  solar_value  solar_maxvalue  \\\n",
       "0 2016-01-01     23.86    1 2016-01-01 00:00:00          0.0             0.0   \n",
       "1 2016-01-01     23.86    2 2016-01-01 00:15:00          0.0             0.0   \n",
       "2 2016-01-01     23.86    3 2016-01-01 00:30:00          0.0             0.0   \n",
       "3 2016-01-01     23.86    4 2016-01-01 00:45:00          0.0             0.0   \n",
       "4 2016-01-01     22.39    5 2016-01-01 01:00:00          0.0             0.0   \n",
       "\n",
       "   solar_minvalue  wind_value  wind_maxvalue  wind_minvalue  \n",
       "0             0.0    297.2600        318.175        267.225  \n",
       "1             0.0    297.2600        318.175        267.225  \n",
       "2             0.0    297.2600        318.175        267.225  \n",
       "3             0.0    297.2600        318.175        267.225  \n",
       "4             0.0    281.0725        299.825        259.450  "
      ]
     },
     "execution_count": 18,
     "metadata": {},
     "output_type": "execute_result"
    }
   ],
   "source": [
    "# ## get average day-ahead-price for each PTE\n",
    "# DA_price = day_ahead_price_df.groupby(['DeliveryDate','start'], as_index=False)['Value'].mean()\n",
    "# merged_DA = day_ahead_price_df.merge(DA_price, on = ['DeliveryDate', 'start'],\\\n",
    "#                                                 how = 'inner')\n",
    "# merged_DA = merged_DA.drop(['Value_x'], axis =1)\n",
    "# merged_DA = merged_DA.drop_duplicates()\n",
    "# merged_DA.columns = ['Date', 'PTE', 'DA-price']\n",
    "# merged_DA['Date'] = merged_DA['Date'].astype('datetime64[ns]')\n",
    "\n",
    "# merge power data\n",
    "day_ahead_price_df.columns = ['Date','DA-price', 'PTE']\n",
    "DA_power_df = day_ahead_price_df.merge(solar_wind_df, on = ['Date', 'PTE'], how = 'inner')\n",
    "DA_power_df.head()"
   ]
  },
  {
   "cell_type": "code",
   "execution_count": 21,
   "metadata": {
    "scrolled": true
   },
   "outputs": [],
   "source": [
    "DA_power_df.to_excel(data_folder_path + '/temp/day_ahead_merge_power.xlsx', index = False)"
   ]
  },
  {
   "cell_type": "markdown",
   "metadata": {},
   "source": [
    "# merge imbalance price"
   ]
  },
  {
   "cell_type": "code",
   "execution_count": 22,
   "metadata": {},
   "outputs": [],
   "source": [
    "merged_DA_power_df = pd.read_excel(data_folder_path + '/temp/day_ahead_merge_power.xlsx')"
   ]
  },
  {
   "cell_type": "code",
   "execution_count": 23,
   "metadata": {},
   "outputs": [],
   "source": [
    "imbalance_df = pd.read_csv(data_folder_path + '/imbalance/tennet16to18.csv')"
   ]
  },
  {
   "cell_type": "code",
   "execution_count": 24,
   "metadata": {},
   "outputs": [],
   "source": [
    "imb_df = imbalance_df[['week', 'Date', 'PTE', \\\n",
    "                       'take_from_system_kWhPTE','feed_into_system_EURMwh',\\\n",
    "                       'purchase_kWhPTE','sell_kWhPTE', 'absolute_kWhPTE']]\n",
    "imb_df.columns = ['week', 'Date', 'PTE', \\\n",
    "                  'take_from_system_price', 'feed_into_system_price', \\\n",
    "                  'system_purchase_vol', 'system_sell_vol', 'system_absolute_vol']\n",
    "imb_df['Date'] = imb_df['Date'].astype('datetime64[ns]')"
   ]
  },
  {
   "cell_type": "code",
   "execution_count": 25,
   "metadata": {},
   "outputs": [],
   "source": [
    "merge_DA_imb_power_df = imb_df.merge(merged_DA_power_df, on = ['Date', 'PTE'],\\\n",
    "                                     how = 'inner')"
   ]
  },
  {
   "cell_type": "code",
   "execution_count": 26,
   "metadata": {},
   "outputs": [],
   "source": [
    "merge_DA_imb_power_df.to_excel(data_folder_path + '/temp/merged_DA_imb_power_df.xlsx', index = False)"
   ]
  },
  {
   "cell_type": "markdown",
   "metadata": {},
   "source": [
    "# trade data is unavailable before 2017. no use for now. "
   ]
  },
  {
   "cell_type": "code",
   "execution_count": 27,
   "metadata": {},
   "outputs": [],
   "source": [
    "merge_DA_imb_power_df.to_excel(data_folder_path + '/final-merged-df.xlsx', index = False)"
   ]
  },
  {
   "cell_type": "code",
   "execution_count": null,
   "metadata": {},
   "outputs": [],
   "source": []
  }
 ],
 "metadata": {
  "kernelspec": {
   "display_name": "Python 3",
   "language": "python",
   "name": "python3"
  },
  "language_info": {
   "codemirror_mode": {
    "name": "ipython",
    "version": 3
   },
   "file_extension": ".py",
   "mimetype": "text/x-python",
   "name": "python",
   "nbconvert_exporter": "python",
   "pygments_lexer": "ipython3",
   "version": "3.6.5"
  },
  "toc": {
   "base_numbering": 1,
   "nav_menu": {},
   "number_sections": true,
   "sideBar": true,
   "skip_h1_title": false,
   "title_cell": "Table of Contents",
   "title_sidebar": "Contents",
   "toc_cell": false,
   "toc_position": {
    "height": "calc(100% - 180px)",
    "left": "10px",
    "top": "150px",
    "width": "165px"
   },
   "toc_section_display": true,
   "toc_window_display": true
  }
 },
 "nbformat": 4,
 "nbformat_minor": 2
}
